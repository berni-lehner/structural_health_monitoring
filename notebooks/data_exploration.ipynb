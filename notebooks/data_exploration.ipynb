{
 "cells": [
  {
   "cell_type": "markdown",
   "metadata": {},
   "source": [
    "# Data exploration and preparation\n",
    "[![Open In Colab](https://colab.research.google.com/assets/colab-badge.svg)](https://colab.research.google.com/github/berni-lehner/structural_health_monitoring/blob/main/notebooks/data_exploration.ipynb)"
   ]
  },
  {
   "cell_type": "code",
   "execution_count": null,
   "metadata": {},
   "outputs": [],
   "source": [
    "random_state = 42"
   ]
  },
  {
   "cell_type": "code",
   "execution_count": null,
   "metadata": {},
   "outputs": [],
   "source": [
    "import sys\n",
    "import os\n",
    "import time\n",
    "import glob\n",
    "from pathlib import Path\n",
    "import sklearn\n",
    "import pandas as pd\n",
    "import numpy as np\n",
    "from collections import Counter\n",
    "\n",
    "\n",
    "import matplotlib.pyplot as plt\n",
    "import seaborn as sns\n",
    "\n",
    "\n",
    "IN_COLAB = 'google.colab' in sys.modules\n",
    "\n",
    "if(IN_COLAB):\n",
    "    !git clone https://github.com/berni-lehner/structural_health_monitoring.git\n",
    "    sys.path.insert(0,\"/content/structural_health_monitoring/src\")\n",
    "    sys.path.insert(0,\"/content/structural_health_monitoring/data\")    \n",
    "else:\n",
    "    sys.path.insert(0,\"../src\")\n",
    "    sys.path.insert(0,\"../data\")\n",
    "    \n",
    "\n",
    "\n",
    "try:\n",
    "    from zippeekiyay import namelist\n",
    "except ImportError or ModuleNotFoundError:\n",
    "    print('installing zippee-ki-yay...')\n",
    "    !pip install git+https://github.com/berni-lehner/zippee-ki-yay.git\n",
    "\n",
    "    from zippeekiyay import namelist"
   ]
  },
  {
   "cell_type": "code",
   "execution_count": null,
   "metadata": {},
   "outputs": [],
   "source": [
    "from DataDownloader import DataDownloader as ddl\n",
    "from data_utils import load_raw_specs, FEATURE_LIST\n",
    "from manifold_utils import tsne_embedding\n",
    "from plot_utils import plot_embedding_targets\n",
    "from plot_utils import plot_classwise_dist, plot_classwise_kde"
   ]
  },
  {
   "cell_type": "code",
   "execution_count": null,
   "metadata": {},
   "outputs": [],
   "source": [
    "url = r\"https://sandbox.zenodo.org/record/1115172/files/data_synthetic.zip\"\n",
    "DATA_PATH = Path(r\"../data/synthetic/\")\n",
    "\n",
    "\n",
    "start_time = time.perf_counter()\n",
    "dl_succeed = ddl.download_and_unpack(url, DATA_PATH, cache=True)\n",
    "end_time = time.perf_counter()\n",
    "print(f\"time passed: {end_time-start_time:.2f} s\")\n",
    "print(f\"downloading successful: {dl_succeed}\")"
   ]
  },
  {
   "cell_type": "code",
   "execution_count": null,
   "metadata": {},
   "outputs": [],
   "source": [
    "# general plot configuration\n",
    "SMALL_SIZE = 10\n",
    "MEDIUM_SIZE = 16\n",
    "LARGE_SIZE = 20\n",
    "HUGE_SIZE = 24\n",
    "\n",
    "plt.rc('figure', figsize=(22, 8))        # default figure size\n",
    "plt.rc('figure', titlesize=HUGE_SIZE)     # fontsize of the figure title\n",
    "plt.rc('figure', titleweight='bold')      # weight of the figure title\n",
    "#plt.rc('font', size=MEDIUM_SIZE)          # default text sizes\n",
    "#plt.rc('axes', titlesize=LARGE_SIZE)      # fontsize of the axes title\n",
    "#plt.rc('axes', titleweight='bold')        # weight of the axes title\n",
    "#plt.rc('axes', labelsize=MEDIUM_SIZE)     # fontsize of the x and y labels\n",
    "#plt.rc('xtick', labelsize=MEDIUM_SIZE)    # fontsize of the tick labels\n",
    "#plt.rc('ytick', labelsize=MEDIUM_SIZE)    # fontsize of the tick labels\n",
    "plt.rc('legend', fontsize=SMALL_SIZE)    # legend fontsize"
   ]
  },
  {
   "cell_type": "code",
   "execution_count": null,
   "metadata": {},
   "outputs": [],
   "source": [
    "file_names = list(DATA_PATH.glob('**/*.csv'))\n",
    "\n",
    "# cache file for faster data loading on later iterations\n",
    "pickle_name = Path(DATA_PATH, 'raw_specs.pkl')"
   ]
  },
  {
   "cell_type": "code",
   "execution_count": null,
   "metadata": {},
   "outputs": [],
   "source": [
    "%%time\n",
    "\n",
    "df = load_raw_specs(file_names=file_names,\n",
    "                    cache_file=pickle_name,\n",
    "                    y_col=FEATURE_LIST)\n",
    "\n",
    "df.head()"
   ]
  },
  {
   "cell_type": "markdown",
   "metadata": {},
   "source": [
    "## keep only the defect radius as target variable"
   ]
  },
  {
   "cell_type": "code",
   "execution_count": null,
   "metadata": {},
   "outputs": [],
   "source": [
    "FEATURE_LIST"
   ]
  },
  {
   "cell_type": "code",
   "execution_count": null,
   "metadata": {},
   "outputs": [],
   "source": [
    "target = 'y_radius'\n",
    "\n",
    "drop_cols = FEATURE_LIST.copy()\n",
    "drop_cols.remove(target)\n",
    "drop_cols.append('file')\n",
    "\n",
    "df = df.drop(columns=drop_cols)"
   ]
  },
  {
   "cell_type": "code",
   "execution_count": null,
   "metadata": {},
   "outputs": [],
   "source": [
    "df.columns"
   ]
  },
  {
   "cell_type": "code",
   "execution_count": null,
   "metadata": {},
   "outputs": [],
   "source": [
    "features = df.columns[0:-1]"
   ]
  },
  {
   "cell_type": "code",
   "execution_count": null,
   "metadata": {},
   "outputs": [],
   "source": [
    "df = df.sort_values(target) # make sure the class labels are sorted for further convenience\n",
    "\n",
    "cntr = Counter(df[target])\n",
    "cntr.keys()"
   ]
  },
  {
   "cell_type": "code",
   "execution_count": null,
   "metadata": {},
   "outputs": [],
   "source": [
    "from sklearn.preprocessing import StandardScaler\n",
    "\n",
    "scaler = StandardScaler()\n",
    "scaler.fit(df[features]) # use both inliers and outliers\n",
    "\n",
    "df[features] = scaler.transform(df[features])"
   ]
  },
  {
   "cell_type": "code",
   "execution_count": null,
   "metadata": {},
   "outputs": [],
   "source": [
    "fig = plot_classwise_dist(df=df, label_col=target)\n",
    "fig.set(xlim=(-300, None)); "
   ]
  },
  {
   "cell_type": "code",
   "execution_count": null,
   "metadata": {},
   "outputs": [],
   "source": [
    "fig = plot_classwise_dist(df=df, label_col=target)\n",
    "fig.set(xlim=(-13, 32)); "
   ]
  },
  {
   "cell_type": "code",
   "execution_count": null,
   "metadata": {},
   "outputs": [],
   "source": [
    "fig = plot_classwise_kde(df, label_col=target, feature_idx=17, focus=34);"
   ]
  },
  {
   "cell_type": "markdown",
   "metadata": {},
   "source": [
    "## Plot t-sne embedding"
   ]
  },
  {
   "cell_type": "markdown",
   "metadata": {
    "tags": []
   },
   "source": [
    "### convert to numpy array"
   ]
  },
  {
   "cell_type": "code",
   "execution_count": null,
   "metadata": {},
   "outputs": [],
   "source": [
    "X = df[features[17:]].values\n",
    "y = df[target].values\n",
    "\n",
    "X.shape"
   ]
  },
  {
   "cell_type": "code",
   "execution_count": null,
   "metadata": {},
   "outputs": [],
   "source": [
    "X_embedded = tsne_embedding(X, perplexity=40)\n",
    "\n",
    "plot_embedding_targets(X_embedded, y, alpha=0.2)"
   ]
  }
 ],
 "metadata": {
  "kernelspec": {
   "display_name": "Python 3 (ipykernel)",
   "language": "python",
   "name": "python3"
  },
  "language_info": {
   "codemirror_mode": {
    "name": "ipython",
    "version": 3
   },
   "file_extension": ".py",
   "mimetype": "text/x-python",
   "name": "python",
   "nbconvert_exporter": "python",
   "pygments_lexer": "ipython3",
   "version": "3.9.12"
  },
  "varInspector": {
   "cols": {
    "lenName": 16,
    "lenType": 16,
    "lenVar": 40
   },
   "kernels_config": {
    "python": {
     "delete_cmd_postfix": "",
     "delete_cmd_prefix": "del ",
     "library": "var_list.py",
     "varRefreshCmd": "print(var_dic_list())"
    },
    "r": {
     "delete_cmd_postfix": ") ",
     "delete_cmd_prefix": "rm(",
     "library": "var_list.r",
     "varRefreshCmd": "cat(var_dic_list()) "
    }
   },
   "types_to_exclude": [
    "module",
    "function",
    "builtin_function_or_method",
    "instance",
    "_Feature"
   ],
   "window_display": false
  }
 },
 "nbformat": 4,
 "nbformat_minor": 4
}
