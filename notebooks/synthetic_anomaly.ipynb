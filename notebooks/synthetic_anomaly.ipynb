{
 "cells": [
  {
   "cell_type": "code",
   "execution_count": 1,
   "id": "75a0c53e-5ea7-42b9-a299-6849a91c9cdf",
   "metadata": {},
   "outputs": [],
   "source": [
    "import sys\n",
    "import os\n",
    "import time\n",
    "import glob\n",
    "from pathlib import Path\n",
    "import sklearn\n",
    "import pandas as pd\n",
    "import numpy as np\n",
    "from collections import Counter\n",
    "\n",
    "from sklearn.preprocessing import StandardScaler\n",
    "\n",
    "import matplotlib.pyplot as plt\n",
    "import seaborn as sns\n",
    "import ipywidgets as widgets\n",
    "\n",
    "DATA_PATH = Path(r\"../data/synthetic/\")\n",
    "random_state = None"
   ]
  },
  {
   "cell_type": "code",
   "execution_count": 2,
   "id": "7af5021a-ffb8-47a0-a799-43ac1caf62a0",
   "metadata": {},
   "outputs": [],
   "source": [
    "def init():\n",
    "    IN_COLAB = 'google.colab' in sys.modules\n",
    "\n",
    "    if(IN_COLAB):\n",
    "        !git clone https://github.com/berni-lehner/structural_health_monitoring.git\n",
    "        sys.path.insert(0,\"/content/structural_health_monitoring/src\")\n",
    "        sys.path.insert(0,\"/content/structural_health_monitoring/data\")    \n",
    "    else:\n",
    "        sys.path.insert(0,\"../src\")\n",
    "        sys.path.insert(0,\"../data\")\n",
    "\n",
    "    try:\n",
    "        from zippeekiyay import namelist\n",
    "    except ImportError or ModuleNotFoundError:\n",
    "        print('installing zippee-ki-yay...')\n",
    "        !pip install git+https://github.com/berni-lehner/zippee-ki-yay.git\n",
    "\n",
    "        from zippeekiyay import namelist"
   ]
  },
  {
   "cell_type": "code",
   "execution_count": 3,
   "id": "4bd07ab4-85f8-45a6-937f-a484794fa3ae",
   "metadata": {},
   "outputs": [],
   "source": [
    "def init_data():\n",
    "    from DataDownloader import DataDownloader as ddl\n",
    "    \n",
    "    url = r\"https://sandbox.zenodo.org/record/1115172/files/data_synthetic.zip\"\n",
    "\n",
    "    start_time = time.perf_counter()\n",
    "    dl_succeed = ddl.download_and_unpack(url, DATA_PATH, cache=True)\n",
    "    end_time = time.perf_counter()\n",
    "    print(f\"time passed: {end_time-start_time:.2f} s\")\n",
    "    print(f\"downloading successful: {dl_succeed}\")    "
   ]
  },
  {
   "cell_type": "code",
   "execution_count": 4,
   "id": "698be2ff-175b-4d5c-9184-c6f40d92091d",
   "metadata": {},
   "outputs": [
    {
     "name": "stdout",
     "output_type": "stream",
     "text": [
      "time passed: 5.10 s\n",
      "downloading successful: True\n"
     ]
    }
   ],
   "source": [
    "# initialize environment, paths, etc...\n",
    "init()\n",
    "#...and download raw data if not already downloaded\n",
    "init_data()\n",
    "\n",
    "\n",
    "from plot_utils import init_plotting\n",
    "# configure fonts, etc...\n",
    "init_plotting()\n",
    "\n",
    "from cv_utils import AnomalyShuffleSplit, dump_cv\n",
    "from scoring_utils import get_anomaly_scoring"
   ]
  },
  {
   "cell_type": "code",
   "execution_count": 5,
   "id": "30f473e8-c06c-4ab4-b791-9dac9d040fc1",
   "metadata": {},
   "outputs": [
    {
     "name": "stdout",
     "output_type": "stream",
     "text": [
      "<class 'pandas.core.frame.DataFrame'>\n",
      "RangeIndex: 34152 entries, 0 to 34151\n",
      "Data columns (total 33 columns):\n",
      " #   Column    Non-Null Count  Dtype  \n",
      "---  ------    --------------  -----  \n",
      " 0   0         34152 non-null  float32\n",
      " 1   1         34152 non-null  float32\n",
      " 2   2         34152 non-null  float32\n",
      " 3   3         34152 non-null  float32\n",
      " 4   4         34152 non-null  float32\n",
      " 5   5         34152 non-null  float32\n",
      " 6   6         34152 non-null  float32\n",
      " 7   7         34152 non-null  float32\n",
      " 8   8         34152 non-null  float32\n",
      " 9   9         34152 non-null  float32\n",
      " 10  10        34152 non-null  float32\n",
      " 11  11        34152 non-null  float32\n",
      " 12  12        34152 non-null  float32\n",
      " 13  13        34152 non-null  float32\n",
      " 14  14        34152 non-null  float32\n",
      " 15  15        34152 non-null  float32\n",
      " 16  16        34152 non-null  float32\n",
      " 17  17        34152 non-null  float32\n",
      " 18  18        34152 non-null  float32\n",
      " 19  19        34152 non-null  float32\n",
      " 20  20        34152 non-null  float32\n",
      " 21  21        34152 non-null  float32\n",
      " 22  22        34152 non-null  float32\n",
      " 23  23        34152 non-null  float32\n",
      " 24  24        34152 non-null  float32\n",
      " 25  25        34152 non-null  float32\n",
      " 26  26        34152 non-null  float32\n",
      " 27  27        34152 non-null  float32\n",
      " 28  28        34152 non-null  float32\n",
      " 29  29        34152 non-null  float32\n",
      " 30  30        34152 non-null  float32\n",
      " 31  31        34152 non-null  float32\n",
      " 32  y_radius  34152 non-null  float32\n",
      "dtypes: float32(33)\n",
      "memory usage: 4.3 MB\n"
     ]
    }
   ],
   "source": [
    "from data_utils import load_synthetic_data\n",
    "\n",
    "target_col='y_radius'\n",
    "\n",
    "df, fb = load_synthetic_data(DATA_PATH, target_col=target_col)\n",
    "\n",
    "df.info()"
   ]
  },
  {
   "cell_type": "code",
   "execution_count": 6,
   "id": "4d92f633-dc8b-46ea-b38a-73686d611347",
   "metadata": {},
   "outputs": [
    {
     "data": {
      "text/plain": [
       "Counter({0.0: 990,\n",
       "         0.3125: 975,\n",
       "         0.625: 971,\n",
       "         0.9375: 980,\n",
       "         1.25: 978,\n",
       "         1.5625: 968,\n",
       "         1.875: 978,\n",
       "         2.1875: 979,\n",
       "         2.5: 979,\n",
       "         2.8125: 978,\n",
       "         3.125: 986,\n",
       "         3.4375: 972,\n",
       "         3.75: 973,\n",
       "         4.0625: 976,\n",
       "         4.375: 979,\n",
       "         4.6875: 976,\n",
       "         5.0: 977,\n",
       "         6.666999816894531: 981,\n",
       "         8.333000183105469: 972,\n",
       "         10.0: 973,\n",
       "         12.0: 969,\n",
       "         14.0: 978,\n",
       "         16.0: 980,\n",
       "         18.0: 976,\n",
       "         20.0: 974,\n",
       "         22.0: 975,\n",
       "         24.0: 980,\n",
       "         26.0: 973,\n",
       "         28.0: 983,\n",
       "         30.0: 977,\n",
       "         32.0: 967,\n",
       "         34.0: 971,\n",
       "         36.0: 976,\n",
       "         38.0: 964,\n",
       "         40.0: 968})"
      ]
     },
     "execution_count": 6,
     "metadata": {},
     "output_type": "execute_result"
    }
   ],
   "source": [
    "cnt = Counter(df[target_col])\n",
    "cnt"
   ]
  },
  {
   "cell_type": "markdown",
   "id": "8639fc7a-af92-4b90-87c3-e32741ff34e7",
   "metadata": {},
   "source": [
    "## ignore defects with unrealistically small size"
   ]
  },
  {
   "cell_type": "code",
   "execution_count": 7,
   "id": "a7c3cefb-0ee0-4ff7-87a3-03707b6aca51",
   "metadata": {},
   "outputs": [],
   "source": [
    "#ignore_radius = 4.0 # this is justified according to material properties\n",
    "ignore_radius = 1.5 # this is justified according to material properties\n",
    "\n",
    "\n",
    "df_normal =  df[df[target_col]==0.0]\n",
    "#df_normal =  df[df[target_col]<1.0]\n",
    "df_anomaly = df[df[target_col]>ignore_radius]\n",
    "\n",
    "Xpos = df_normal.drop(columns=[target_col]).values\n",
    "Xneg = df_anomaly.drop(columns=[target_col]).values"
   ]
  },
  {
   "cell_type": "code",
   "execution_count": 8,
   "id": "897da919-9fe2-4051-afa8-e58c05a2ded2",
   "metadata": {},
   "outputs": [],
   "source": [
    "X, y, cv = AnomalyShuffleSplit(Xpos, Xneg, n_splits=5, test_size=.5, random_state=random_state)"
   ]
  },
  {
   "cell_type": "code",
   "execution_count": 9,
   "id": "b38773eb-52ba-4c4f-aff2-c9884fb7ecf9",
   "metadata": {},
   "outputs": [
    {
     "name": "stdout",
     "output_type": "stream",
     "text": [
      "---------cv iteration 0----------\n",
      "train\n",
      "Counter({1.0: 495})\n",
      "test\n",
      "Counter({-1.0: 29258, 1.0: 495})\n",
      "---------cv iteration 1----------\n",
      "train\n",
      "Counter({1.0: 495})\n",
      "test\n",
      "Counter({-1.0: 29258, 1.0: 495})\n",
      "---------cv iteration 2----------\n",
      "train\n",
      "Counter({1.0: 495})\n",
      "test\n",
      "Counter({-1.0: 29258, 1.0: 495})\n",
      "---------cv iteration 3----------\n",
      "train\n",
      "Counter({1.0: 495})\n",
      "test\n",
      "Counter({-1.0: 29258, 1.0: 495})\n",
      "---------cv iteration 4----------\n",
      "train\n",
      "Counter({1.0: 495})\n",
      "test\n",
      "Counter({-1.0: 29258, 1.0: 495})\n"
     ]
    }
   ],
   "source": [
    "dump_cv(cv, y)"
   ]
  },
  {
   "cell_type": "markdown",
   "id": "e79077b8-a55e-4cde-bfd7-134ce60dd3fd",
   "metadata": {},
   "source": []
  },
  {
   "cell_type": "code",
   "execution_count": 10,
   "id": "58b267f3-3f57-4397-a4f1-e834b15b1400",
   "metadata": {},
   "outputs": [],
   "source": [
    "scoring = get_anomaly_scoring()"
   ]
  },
  {
   "cell_type": "code",
   "execution_count": null,
   "id": "03724929-2378-421d-bce8-20137cd06cf0",
   "metadata": {},
   "outputs": [],
   "source": []
  },
  {
   "cell_type": "code",
   "execution_count": null,
   "id": "c7eac511-6cf9-4974-993c-ba2c6becaaa7",
   "metadata": {},
   "outputs": [],
   "source": []
  },
  {
   "cell_type": "code",
   "execution_count": 11,
   "id": "fe6365eb-1423-43a4-9e19-dd56c8610af5",
   "metadata": {},
   "outputs": [],
   "source": [
    "import pandas as pd\n",
    "import numpy as np\n",
    "\n",
    "from sklearn import model_selection\n",
    "from sklearn.model_selection import StratifiedShuffleSplit\n",
    "from sklearn.model_selection import RepeatedKFold\n",
    "\n",
    "\n",
    "    \n",
    "def classification_benchmark(X, y,\n",
    "                             models,\n",
    "                             cv=None,\n",
    "                             scoring=None,\n",
    "                             groups=None,\n",
    "                             random_state=None,\n",
    "                             n_jobs=3):\n",
    "    '''\n",
    "    '''\n",
    "    if cv is None:\n",
    "        cv = StratifiedShuffleSplit(n_splits=8, test_size=0.1,\n",
    "                                    random_state=random_state)\n",
    "    if scoring is None:\n",
    "        scoring = ['balanced_accuracy', 'accuracy', 'precision_macro',\n",
    "                   'recall_macro', 'f1_macro']\n",
    "        \n",
    "    results = benchmark(X=X, y=y, models=models, cv=cv, scoring=scoring,\n",
    "                        groups=groups, random_state=random_state,\n",
    "                        n_jobs=n_jobs)\n",
    "    return results\n",
    "\n",
    "\n",
    "def regression_benchmark(X, y,\n",
    "                         models,\n",
    "                         cv=None,\n",
    "                         scoring=None,\n",
    "                         groups=None,\n",
    "                         random_state=None,\n",
    "                         n_jobs=3):\n",
    "    '''\n",
    "    '''\n",
    "    if cv is None:\n",
    "        cv = RepeatedKFold(n_splits=5, n_repeats=3)\n",
    "\n",
    "    if scoring is None:\n",
    "        scoring = ['neg_mean_absolute_error', 'neg_mean_squared_error',\n",
    "                   'r2', 'explained_variance',]\n",
    "    \n",
    "    results = benchmark(X=X, y=y, models=models, cv=cv, scoring=scoring,\n",
    "                        groups=groups, random_state=random_state,\n",
    "                        n_jobs=n_jobs)\n",
    "    return results\n",
    "  \n",
    "\n",
    "#@tictoc  \n",
    "# TODO: cv can be list with same len as models (for customized cv lists, especially for a-a testing)\n",
    "def benchmark(X, y,\n",
    "              models,\n",
    "              cv,\n",
    "              scoring,\n",
    "              groups=None,\n",
    "              random_state=None,\n",
    "              n_jobs=3):\n",
    "    '''\n",
    "    '''\n",
    "    all_cv_results = []\n",
    "               \n",
    "    for name, model in models:\n",
    "        try:\n",
    "            cv_results = model_selection.cross_validate(model, X, y,\n",
    "                                                        cv=cv, groups=groups,\n",
    "                                                        scoring=scoring,\n",
    "                                                        n_jobs=n_jobs)\n",
    "        \n",
    "        except ValueError as exc:\n",
    "            print(exc)\n",
    "\n",
    "        tmp = pd.DataFrame(cv_results)\n",
    "        tmp['model'] = name\n",
    "        all_cv_results.append(tmp)\n",
    "    \n",
    "    all_cv_results = pd.concat(all_cv_results, ignore_index=True)\n",
    "    \n",
    "    return all_cv_results\n",
    "\n",
    "\n",
    "        \n",
    "def extract_metrics(result_df, metrics, sort=None):\n",
    "    '''\n",
    "    '''\n",
    "    result_df = pd.melt(result_df, id_vars=['model'],\n",
    "                        var_name='metrics', value_name='values')\n",
    "\n",
    "    result_df = result_df.loc[result_df['metrics'].isin(metrics)]\n",
    "\n",
    "    if sort is not None:\n",
    "        result_df = result_df.sort_values(by=sort)\n",
    "\n",
    "    return result_df\n"
   ]
  },
  {
   "cell_type": "code",
   "execution_count": 12,
   "id": "9a9612be-8999-401e-9506-6e29fc88d07a",
   "metadata": {},
   "outputs": [],
   "source": [
    "def plot_metrics(metrics: pd.DataFrame):\n",
    "    '''\n",
    "    '''\n",
    "    fig = sns.boxplot(x=\"model\", y=\"values\", hue=\"metrics\", data=metrics)\n",
    "    \n",
    "    return fig\n"
   ]
  },
  {
   "cell_type": "code",
   "execution_count": 13,
   "id": "2623df8c-f6fb-4149-bd61-135208f49d08",
   "metadata": {},
   "outputs": [],
   "source": [
    "from sklearn.svm import OneClassSVM\n",
    "from sklearn.ensemble import IsolationForest\n",
    "from sklearn.covariance import EllipticEnvelope\n",
    "from sklearn.neighbors import LocalOutlierFactor\n",
    "from sklearn.pipeline import Pipeline\n",
    "from sklearn.preprocessing import RobustScaler, StandardScaler\n"
   ]
  },
  {
   "cell_type": "code",
   "execution_count": 14,
   "id": "44334087-7ce8-4e52-aa82-65cb59901ad7",
   "metadata": {},
   "outputs": [],
   "source": [
    "def get_aa_experiment(estimator):\n",
    "    experiment = [\n",
    "        ('est 1', estimator),\n",
    "        ('est 2', estimator),\n",
    "        ('est 3', estimator),\n",
    "        ('est 4', estimator),\n",
    "        ('est 5', estimator),\n",
    "    ]\n",
    "    \n",
    "    return experiment\n",
    "\n",
    "estimator = OneClassSVM(gamma='scale', nu=0.02)\n",
    "pipelines = Pipeline([('scaler', StandardScaler()), ('est', estimator)])\n",
    "\n",
    "pipelines = get_aa_experiment(pipelines)"
   ]
  },
  {
   "cell_type": "code",
   "execution_count": 15,
   "id": "03de5e76-c736-46f6-99a9-02e9d54d8dbe",
   "metadata": {},
   "outputs": [],
   "source": [
    "results = classification_benchmark(X=X, y=y,\n",
    "                         models=pipelines,\n",
    "                         cv=cv,\n",
    "                         scoring=scoring,\n",
    "                         random_state=random_state)"
   ]
  },
  {
   "cell_type": "code",
   "execution_count": 20,
   "id": "72e4a5cb-d5fb-447f-aeec-b882ac660296",
   "metadata": {},
   "outputs": [
    {
     "data": {
      "text/plain": [
       "Index(['fit_time', 'score_time', 'test_balanced_accuracy', 'test_roc_auc',\n",
       "       'test_f1_pos', 'test_f1_neg', 'test_recall_pos', 'test_recall_neg',\n",
       "       'test_precision_pos', 'test_precision_neg', 'test_roc_auc_ovr',\n",
       "       'test_tn', 'test_fp', 'test_fn', 'test_tp', 'model'],\n",
       "      dtype='object')"
      ]
     },
     "execution_count": 20,
     "metadata": {},
     "output_type": "execute_result"
    }
   ],
   "source": [
    "results.columns"
   ]
  },
  {
   "cell_type": "code",
   "execution_count": 16,
   "id": "e79e1935-4e22-4528-93cb-67957900e4f7",
   "metadata": {},
   "outputs": [
    {
     "data": {
      "image/png": "[encoded data removed]",
      "text/plain": [
       "<Figure size 1584x576 with 1 Axes>"
      ]
     },
     "metadata": {},
     "output_type": "display_data"
    }
   ],
   "source": [
    "fig = plot_metrics(extract_metrics(results, ['test_fn', 'test_fp']))"
   ]
  },
  {
   "cell_type": "code",
   "execution_count": 22,
   "id": "12c3cec0-9ae1-4c57-9966-96837e7f3bda",
   "metadata": {},
   "outputs": [
    {
     "data": {
      "image/png": "[encoded data removed]",
      "text/plain": [
       "<Figure size 1584x576 with 1 Axes>"
      ]
     },
     "metadata": {},
     "output_type": "display_data"
    }
   ],
   "source": [
    "fig = plot_metrics(extract_metrics(results, ['test_balanced_accuracy']))"
   ]
  },
  {
   "cell_type": "code",
   "execution_count": 18,
   "id": "283e360e-8be9-4c15-89eb-f4ed5ac2d285",
   "metadata": {},
   "outputs": [
    {
     "data": {
      "image/png": "[encoded data removed]",
      "text/plain": [
       "<Figure size 1584x576 with 1 Axes>"
      ]
     },
     "metadata": {},
     "output_type": "display_data"
    }
   ],
   "source": [
    "fig = plot_metrics(extract_metrics(results, ['test_roc_auc']))"
   ]
  },
  {
   "cell_type": "code",
   "execution_count": null,
   "id": "7d2cdd4b-d7be-4594-ba2e-02ad12e06a70",
   "metadata": {},
   "outputs": [],
   "source": [
    "assert False"
   ]
  },
  {
   "cell_type": "code",
   "execution_count": null,
   "id": "abd618e0-6a5b-4b0c-b166-9aea93e76638",
   "metadata": {},
   "outputs": [],
   "source": []
  },
  {
   "cell_type": "code",
   "execution_count": null,
   "id": "2907cb96-2011-4f60-80a4-6574dd08019a",
   "metadata": {},
   "outputs": [],
   "source": []
  },
  {
   "cell_type": "code",
   "execution_count": null,
   "id": "73e44662-dd56-4d4c-9c2a-a2b8b377ef67",
   "metadata": {},
   "outputs": [],
   "source": []
  },
  {
   "cell_type": "code",
   "execution_count": null,
   "id": "b2de0b0f-6f6d-4c1b-82bf-8b68be32da15",
   "metadata": {},
   "outputs": [],
   "source": []
  },
  {
   "cell_type": "code",
   "execution_count": null,
   "id": "659d4c49-0ef6-44d5-830c-e582cf57bdd7",
   "metadata": {},
   "outputs": [],
   "source": [
    "\n",
    "estimator = OneClassSVM(gamma='scale', nu=0.02)\n",
    "#scaler = StandardScaler()\n",
    "\n",
    "pipelines = [\n",
    "        ('no scaling', Pipeline([('est', estimator)])),\n",
    "        ('StandardScaler', Pipeline([('scaler', StandardScaler()), ('est', estimator)])),\n",
    "        ('RobustScaler', Pipeline([('scaler', RobustScaler()), ('est', estimator)])),\n",
    "    ]"
   ]
  },
  {
   "cell_type": "code",
   "execution_count": null,
   "id": "56199319-be5a-444f-b269-b2b56df12bbf",
   "metadata": {},
   "outputs": [],
   "source": [
    "\n",
    "models = [\n",
    "    ('Isolation Forest', IsolationForest(contamination=0.08, n_estimators=500)),\n",
    "    ('MCD', EllipticEnvelope(contamination=0.02)),\n",
    "    ('SVM', OneClassSVM(gamma='scale', nu=0.02)),\n",
    "        ]"
   ]
  },
  {
   "cell_type": "code",
   "execution_count": null,
   "id": "2d04f6c5-dcf8-40fe-8ec3-4a271fbc4573",
   "metadata": {},
   "outputs": [],
   "source": [
    "results = classification_benchmark(X=X, y=y,\n",
    "                         models=models,\n",
    "                         cv=cv,\n",
    "                         scoring=scoring,\n",
    "                         random_state=random_state)"
   ]
  },
  {
   "cell_type": "code",
   "execution_count": null,
   "id": "b99c8820-5bcc-48dd-9ddc-fc5250ea9f77",
   "metadata": {},
   "outputs": [],
   "source": [
    "fig = plot_metrics(extract_metrics(results, ['test_tp', 'test_fp']))"
   ]
  },
  {
   "cell_type": "code",
   "execution_count": null,
   "id": "d1e52780-235f-4066-9441-b68673ce29a5",
   "metadata": {
    "tags": []
   },
   "outputs": [],
   "source": [
    "from sklearn import model_selection\n",
    "\n",
    "\n",
    "# IMPORTANT! if you get an error like this, the generator is exhausted, and it doesn't reset on its own.\n",
    "# This causes the list of scored results to be empty, hence the error.\n",
    "'''\n",
    "File ~\\Anaconda3\\envs\\py39fullstack\\lib\\site-packages\\sklearn\\model_selection\\_validation.py:1884, in _aggregate_score_dicts(scores)\n",
    "   1857 def _aggregate_score_dicts(scores):\n",
    "   1858     \"\"\"Aggregate the list of dict to dict of np ndarray\n",
    "   1859 \n",
    "   1860     The aggregated output of _aggregate_score_dicts will be a list of dict\n",
    "   (...)\n",
    "   1878      'b': array([10, 2, 3, 10])}\n",
    "   1879     \"\"\"\n",
    "   1880     return {\n",
    "   1881         key: np.asarray([score[key] for score in scores])\n",
    "   1882         if isinstance(scores[0][key], numbers.Number)\n",
    "   1883         else [score[key] for score in scores]\n",
    "-> 1884         for key in scores[0]\n",
    "   1885     }\n",
    "\n",
    "IndexError: list index out of range\n",
    "'''\n",
    "cv_results = model_selection.cross_validate(model, X, y,\n",
    "                                                        cv=cv, groups=None,\n",
    "                                                        scoring=scoring,\n",
    "                                                        n_jobs=4)\n",
    "\n",
    "cv_results"
   ]
  },
  {
   "cell_type": "code",
   "execution_count": null,
   "id": "9666af45-2a92-48f9-bb0b-9847812b99a4",
   "metadata": {},
   "outputs": [],
   "source": []
  },
  {
   "cell_type": "code",
   "execution_count": null,
   "id": "8c5ec982-14eb-4a6b-83ce-7880c305eb82",
   "metadata": {},
   "outputs": [],
   "source": [
    "from sklearn.datasets import make_classification\n",
    "from sklearn.model_selection import train_test_split\n",
    "from sklearn.metrics import f1_score\n",
    "from sklearn.metrics import classification_report\n",
    "\n",
    "\n",
    "def print_report(testy, svm_yhat, target_names=['anomaly', 'pristine']):\n",
    "#def print_report(testy, svm_yhat, target_names=None):\n",
    "        print('-----------------------------------------------------')\n",
    "        print(classification_report(testy, svm_yhat, target_names=target_names))\n",
    "\n",
    "\n",
    "def evaluate_model(X_train, X_test, y_test, model, model_description):\n",
    "    model.fit(X_train)\n",
    "\n",
    "    # detect anomalies\n",
    "    y_hat = model.predict(X_test)\n",
    "\n",
    "    # dump evaluation metrics\n",
    "    score = f1_score(y_test, y_hat, pos_label=-1)\n",
    "    print('#####################################################')\n",
    "    print(model_description + ' f-measure: %.3f' % score)\n",
    "    print_report(y_test, y_hat)\n",
    "    print('#####################################################')\n",
    "        \n",
    "        \n",
    "        \n",
    "def experiment(X, y, models):\n",
    "    # split into train/test sets\n",
    "    seed = np.random.randint(np.iinfo(np.dtype('uint16')).max)\n",
    "    X_train, X_test, y_train, y_test = train_test_split(X, y, test_size=0.1, random_state=seed)\n",
    "    \n",
    "    # just keep pristine samples for training\n",
    "    X_train = X_train[y_train==1]    \n",
    "\n",
    "    for name, model in models:\n",
    "        evaluate_model(X_train, X_test, y_test, model, name)\n",
    "        "
   ]
  },
  {
   "cell_type": "code",
   "execution_count": null,
   "id": "b0e98f0b-4717-470a-8260-263d6bdaf362",
   "metadata": {},
   "outputs": [],
   "source": [
    "def plot_perf_metrics(perf_metrics, file_name=None, rotation=45, ylim=None):\n",
    "    '''\n",
    "    '''\n",
    "    plt.figure()\n",
    "    \n",
    "    sns.set(font_scale=2.5)\n",
    "    fig = sns.boxplot(x=\"model\", y=\"values\", hue=\"metrics\", data=perf_metrics)\n",
    "    plt.legend(loc='best', borderaxespad=0.5)\n",
    "    plt.title('Metrics')\n",
    "    fig.set_xticklabels(fig.get_xticklabels(), rotation=rotation)\n",
    "    \n",
    "    if(ylim is not None):\n",
    "        plt.ylim(ylim)\n",
    "\n",
    "    plt.show()\n",
    "    plt.draw()\n",
    "    \n",
    "    return fig\n"
   ]
  },
  {
   "cell_type": "code",
   "execution_count": null,
   "id": "47188513-ce2c-464b-b289-f822fe9e8321",
   "metadata": {},
   "outputs": [],
   "source": [
    "from sklearn.dummy import DummyClassifier\n",
    "from sklearn import preprocessing\n",
    "from sklearn import datasets\n",
    "\n",
    "from sklearn.model_selection import RepeatedKFold, RepeatedStratifiedKFold\n",
    "\n",
    "from sklearn.neural_network import MLPClassifier\n",
    "from sklearn.gaussian_process import GaussianProcessClassifier\n",
    "from sklearn.gaussian_process.kernels import RBF\n",
    "from sklearn.tree import DecisionTreeClassifier\n",
    "from sklearn.ensemble import RandomForestClassifier, AdaBoostClassifier\n",
    "from sklearn.ensemble import GradientBoostingClassifier\n",
    "from sklearn.naive_bayes import GaussianNB\n",
    "from sklearn.discriminant_analysis import QuadraticDiscriminantAnalysis\n",
    "from sklearn.linear_model import LogisticRegression\n",
    "from sklearn.neighbors import KNeighborsClassifier\n",
    "from sklearn.neighbors import NearestCentroid\n",
    "from sklearn.svm import SVC, NuSVC\n",
    "from xgboost import XGBClassifier\n",
    "\n",
    "from sklearn.svm import OneClassSVM\n",
    "from sklearn.ensemble import IsolationForest\n",
    "from sklearn.covariance import EllipticEnvelope\n",
    "from sklearn.neighbors import LocalOutlierFactor\n",
    "\n",
    "\n",
    "def get_classifier_experiment(random_state=None):\n",
    "    estimators = [\n",
    "        ('Isolation Forest', IsolationForest(contamination=0.08, n_estimators=500)),\n",
    "        ('MCD', EllipticEnvelope(contamination=0.02)),\n",
    "        ('SVM', OneClassSVM(gamma='scale', nu=0.02)),\n",
    "#        ('Dummy_strat', DummyClassifier(strategy=\"stratified\")),\n",
    "#        ('Dummy_mode', DummyClassifier(strategy=\"most_frequent\")),\n",
    "#        ('LogReg', LogisticRegression(random_state=random_state)),\n",
    "#        ('DecisionTree', DecisionTreeClassifier(random_state=random_state)),\n",
    "#        ('RandomForest', RandomForestClassifier(random_state=random_state)),\n",
    "#        ('XGB', XGBClassifier(random_state=random_state)),\n",
    "#        ('KNN', KNeighborsClassifier()), # has no random_state parameter\n",
    "#        ('AdaBoost', AdaBoostClassifier(random_state=random_state)),\n",
    "#        ('GNB', GaussianNB()),\n",
    "#        ('GNB_scaled', Pipeline([('scaler', QuantileTransformer(output_distribution='normal')),\n",
    "#                     ('est', GaussianNB())])),\n",
    "        \n",
    "#        ('GP', GaussianProcessClassifier(kernel=1.0*RBF(1.0), random_state=random_state)),\n",
    "#        ('GBM', GradientBoostingClassifier(random_state=random_state)),\n",
    "#        ('QDA', QuadraticDiscriminantAnalysis()),\n",
    "#        ('QDA_scaled', Pipeline([('scaler', QuantileTransformer(output_distribution='normal')),\n",
    "#                     ('est', QuadraticDiscriminantAnalysis())])),\n",
    "#        ('MLP', MLPClassifier(alpha=1, max_iter=1000, random_state=random_state)),\n",
    "#        ('MLP_scaled', Pipeline([('scaler', QuantileTransformer(output_distribution='normal')),\n",
    "#                     ('est', MLPClassifier(alpha=1, max_iter=1000, random_state=random_state))])),\n",
    "#        ('SVM linear', SVC(kernel='linear', random_state=random_state)),\n",
    "#        ('SVM lin_scaled', Pipeline([('scaler', QuantileTransformer(output_distribution='normal')),\n",
    "#                     ('est', SVC(kernel='linear', random_state=random_state))])),\n",
    "#        ('SVM sigm', SVC(kernel='sigmoid', random_state=random_state)),\n",
    "#        ('SVM poly', SVC(kernel='poly', random_state=random_state)),\n",
    "#        ('SVM rbf', SVC(kernel='rbf', random_state=random_state)),\n",
    "    ]\n",
    "    \n",
    "    return estimators\n",
    "\n",
    "\n",
    "from sklearn.pipeline import Pipeline\n",
    "from sklearn.preprocessing import RobustScaler, StandardScaler\n",
    "\n",
    "estimator = OneClassSVM(gamma='scale', nu=0.02)\n",
    "#scaler = StandardScaler()\n",
    "\n",
    "pipelines = [\n",
    "        ('no scaling', Pipeline([('est', estimator)])),\n",
    "        ('StandardScaler', Pipeline([('scaler', StandardScaler()), ('est', estimator)])),\n",
    "        ('RobustScaler', Pipeline([('scaler', RobustScaler()), ('est', estimator)])),\n",
    "    ]"
   ]
  },
  {
   "cell_type": "code",
   "execution_count": null,
   "id": "ec5c86c7-a9e7-4ba4-89b0-83d5c680565e",
   "metadata": {},
   "outputs": [],
   "source": [
    "name, model = pipelines[1]"
   ]
  },
  {
   "cell_type": "code",
   "execution_count": null,
   "id": "6f8018b4-364a-47e9-bd9e-f222978101ad",
   "metadata": {},
   "outputs": [],
   "source": [
    "name"
   ]
  },
  {
   "cell_type": "code",
   "execution_count": null,
   "id": "c91ea44b-e722-4f03-bc6e-667dfad3e791",
   "metadata": {},
   "outputs": [],
   "source": [
    "model"
   ]
  },
  {
   "cell_type": "code",
   "execution_count": null,
   "id": "4d430ed9-4f5f-437f-bd83-42257fe9a978",
   "metadata": {},
   "outputs": [],
   "source": [
    "cv_results = model_selection.cross_validate(model, X, y,\n",
    "                                                        cv=cv, groups=None,\n",
    "                                                        scoring=None,\n",
    "                                                        n_jobs=4)"
   ]
  },
  {
   "cell_type": "code",
   "execution_count": null,
   "id": "859ba61e-57ec-411b-8dde-50e28842ff93",
   "metadata": {},
   "outputs": [],
   "source": [
    "from sklearn.model_selection import KFold\n",
    "from sklearn.model_selection import StratifiedKFold, KFold\n",
    "\n",
    "#cv = StratifiedKFold(n_splits=3, random_state=random_state)\n",
    "cv = StratifiedShuffleSplit(n_splits=8, test_size=0.1,\n",
    "                                    random_state=random_state)\n",
    "#cv = KFold(n_splits=2)\n",
    "\n",
    "train_splits = []\n",
    "test_splits = []\n",
    "\n",
    "for train_idx, test_idx in cv.split(X, y):\n",
    "    #print(\"%s %s\" % (train, test))\n",
    "    #todo: remove indices of 'D'\n",
    "    print(\"train\")\n",
    "    cnt = Counter(y[train_idx])\n",
    "    print(cnt)\n",
    "\n",
    "    \n",
    "    print(\"\\ntrain modified\")\n",
    "    mask = np.ones(len(train_idx), dtype=bool)\n",
    "    print(train_idx.shape)\n",
    "    print(mask.shape)\n",
    "    mask[y[train_idx]=='D'] = False\n",
    "    #cnt = Counter(y[train_idx][mask])\n",
    "    #print(cnt)\n",
    "    #cv.append([0,1,2,3])\n",
    "    \n",
    "    train_splits.append(train_idx[mask])\n",
    "    \n",
    "    \n",
    "    print(\"\\ntest\")\n",
    "    cnt = Counter(y[test_idx])\n",
    "    print(cnt)\n",
    "    \n",
    "    test_splits.append(test_idx)\n",
    "    \n",
    "    \n",
    "anomaly_cv = zip(train_splits, test_splits)    "
   ]
  },
  {
   "cell_type": "code",
   "execution_count": null,
   "id": "62de972c-e0ff-4bd5-8105-82d28633c6e6",
   "metadata": {},
   "outputs": [],
   "source": [
    "for train_idx, test_idx in zip(train_splits, test_splits):\n",
    "    #print(\"%s %s\" % (train, test))\n",
    "    #todo: remove indices of 'D'\n",
    "    print(\"train\")\n",
    "    cnt = Counter(y[train_idx])\n",
    "    print(cnt)\n",
    "    \n",
    "    print(np.max(train_idx))\n",
    "    print(np.max(test_idx))\n"
   ]
  },
  {
   "cell_type": "code",
   "execution_count": null,
   "id": "00c45161-a90d-41f3-8730-c4b7dd14cccc",
   "metadata": {},
   "outputs": [],
   "source": [
    "cv = anomaly_cv\n",
    "\n",
    "#X, y, models, cv=None\n",
    "cv_results = classification_benchmark(X=X, y=y_num, models=pipelines, cv=cv)"
   ]
  },
  {
   "cell_type": "code",
   "execution_count": null,
   "id": "75327394-22ed-438f-a5e1-4eebcdb99c92",
   "metadata": {},
   "outputs": [],
   "source": [
    "result = extract_metrics(cv_results, ['test_balanced_accuracy'])\n",
    "\n",
    "\n",
    "\n",
    "#from plot_utils import plot_perf_metrics\n",
    "fig = plot_perf_metrics(result)"
   ]
  }
 ],
 "metadata": {
  "kernelspec": {
   "display_name": "Python 3 (ipykernel)",
   "language": "python",
   "name": "python3"
  },
  "language_info": {
   "codemirror_mode": {
    "name": "ipython",
    "version": 3
   },
   "file_extension": ".py",
   "mimetype": "text/x-python",
   "name": "python",
   "nbconvert_exporter": "python",
   "pygments_lexer": "ipython3",
   "version": "3.9.12"
  }
 },
 "nbformat": 4,
 "nbformat_minor": 5
}
