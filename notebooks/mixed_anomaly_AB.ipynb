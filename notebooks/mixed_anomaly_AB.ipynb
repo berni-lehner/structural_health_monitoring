{
 "cells": [
  {
   "cell_type": "markdown",
   "id": "817a6229-881c-4301-92a7-84b6037302af",
   "metadata": {},
   "source": [
    "# Anomaly Detection with Real-world Data\n",
    "In this notebook, we conduct an experiment where we train anomaly detection algorithms on snythetic data and test them on real-world data.\n",
    "\n",
    "[![Open In Colab](https://colab.research.google.com/assets/colab-badge.svg)](https://colab.research.google.com/github/berni-lehner/structural_health_monitoring/blob/main/notebooks/mixed_anomaly_AB.ipynb)"
   ]
  },
  {
   "cell_type": "code",
   "execution_count": 1,
   "id": "344a9419-7780-41d7-a9f0-63ce1c36a94c",
   "metadata": {},
   "outputs": [],
   "source": [
    "random_state = None"
   ]
  },
  {
   "cell_type": "markdown",
   "id": "fc5152f2-2814-498d-927b-1461f541db41",
   "metadata": {},
   "source": [
    "## Prerequisites"
   ]
  },
  {
   "cell_type": "code",
   "execution_count": 2,
   "id": "5fa8f07e-50a9-4030-9d3f-2a23c1b585d3",
   "metadata": {},
   "outputs": [],
   "source": [
    "import sys\n",
    "import os\n",
    "from pathlib import Path\n",
    "import pandas as pd\n",
    "\n",
    "\n",
    "# initialize environment, paths, etc...\n",
    "IN_COLAB = 'google.colab' in sys.modules\n",
    "\n",
    "if(IN_COLAB):\n",
    "    # uncomment in case you want to start from scratch in Colab\n",
    "    !rm -rf /content/structural_health_monitoring  \n",
    "    !git clone https://github.com/berni-lehner/structural_health_monitoring.git\n",
    "    !pip install -r /content/structural_health_monitoring/requirements.txt\n",
    "    \n",
    "    # this is Colab specific, and only a manual \"Run all\" will cause the\n",
    "    # installation to be finished\n",
    "    if(pd.__version__ != '1.4.2'):\n",
    "      print('Stopping RUNTIME! Please run again to finish installation.')\n",
    "      os.kill(os.getpid(), 9)\n",
    "\n",
    "    DATA_PATH = Path(r\"/content/structural_health_monitoring/data\")\n",
    "    sys.path.insert(0, \"/content/structural_health_monitoring/src\")\n",
    "else:\n",
    "    DATA_PATH = Path(r\"../data/\")\n",
    "    sys.path.insert(0,\"../src\")\n",
    "    \n",
    "    \n",
    "sys.path.insert(0, DATA_PATH)\n",
    "SYN_DATA_PATH = Path(DATA_PATH, \"synthetic\")\n",
    "REAL_DATA_PATH = Path(DATA_PATH, \"real_world\")\n",
    "RESULT_PATH = Path(DATA_PATH, \"results\")\n",
    "if not os.path.isdir(RESULT_PATH):\n",
    "    os.makedirs(RESULT_PATH)\n",
    "\n",
    "try:\n",
    "    from zippeekiyay import namelist\n",
    "except ImportError or ModuleNotFoundError:\n",
    "    print('installing zippee-ki-yay...')\n",
    "    !pip install git+https://github.com/berni-lehner/zippee-ki-yay.git\n",
    "\n",
    "    from zippeekiyay import namelist\n",
    "\n",
    "CALIBRATION_FILE = Path(REAL_DATA_PATH, \"calibration.pkl\")"
   ]
  },
  {
   "cell_type": "code",
   "execution_count": 4,
   "id": "a4a64185-5264-41f0-9313-024ac97bcd1c",
   "metadata": {},
   "outputs": [
    {
     "name": "stdout",
     "output_type": "stream",
     "text": [
      "time passed: 5.83 s\n",
      "downloading synthetic data successful: True\n",
      "time passed: 1.47 s\n",
      "downloading real world data successful: True\n"
     ]
    }
   ],
   "source": [
    "import time\n",
    "import glob\n",
    "import sklearn\n",
    "from sklearn.svm import OneClassSVM\n",
    "from sklearn.ensemble import IsolationForest\n",
    "from sklearn.covariance import EllipticEnvelope\n",
    "from sklearn.pipeline import Pipeline\n",
    "import numpy as np\n",
    "from collections import Counter\n",
    "\n",
    "import matplotlib.pyplot as plt\n",
    "import seaborn as sns\n",
    "import ipywidgets as widgets\n",
    "\n",
    "#...and download raw data if not already downloaded\n",
    "from data_utils import init_data\n",
    "init_data(syn_data_path=SYN_DATA_PATH, real_data_path=REAL_DATA_PATH)\n",
    "\n",
    "from plot_utils import (\n",
    "    init_plotting,\n",
    "    plot_metrics,\n",
    "    plot_cv_indices,\n",
    "    plot_embedding_targets,\n",
    "    init_plotting,\n",
    "    plot_classwise_dist,\n",
    "    plot_classwise_kde,\n",
    ")\n",
    "\n",
    "# configure fonts, etc...\n",
    "init_plotting()\n",
    "\n",
    "from scoring_utils import get_anomaly_scoring\n",
    "from cv_utils import (\n",
    "    AnomalyShuffleSplit,\n",
    "    RepeatedAnomalyShuffleSplit,\n",
    "    CreateAnomalyData,\n",
    "    dump_cv)\n",
    "from bench_utils import (\n",
    "    classification_benchmark,\n",
    "    repeat_experiment,\n",
    "    aabb_classification_benchmark,\n",
    "    extract_metrics)\n",
    "from data_utils import (load_processed_data,\n",
    "                        load_syn_reg_data,\n",
    "                        FEATURE_LIST)"
   ]
  },
  {
   "cell_type": "code",
   "execution_count": 5,
   "id": "b141444e-9253-41c5-9781-93ccc509fd36",
   "metadata": {},
   "outputs": [],
   "source": [
    "result_file = \"mixed_anomaly_AB.pkl\"\n",
    "result_file = Path(RESULT_PATH, result_file)"
   ]
  },
  {
   "cell_type": "markdown",
   "id": "55c67e0f-56d1-4443-b094-7b6462a97b13",
   "metadata": {},
   "source": [
    "# Data Loading"
   ]
  },
  {
   "cell_type": "markdown",
   "id": "c6f77d03-19da-4c28-9993-1a5ea5467da7",
   "metadata": {},
   "source": [
    "## Synthetic Data"
   ]
  },
  {
   "cell_type": "code",
   "execution_count": 6,
   "id": "bf5c58c5-cff5-4cbf-aed8-3f3c0a70155d",
   "metadata": {},
   "outputs": [],
   "source": [
    "Xsyn, ysyn = load_syn_reg_data(data_path=SYN_DATA_PATH,\n",
    "                               min_radius = 1.9,\n",
    "                               cache=True)"
   ]
  },
  {
   "cell_type": "code",
   "execution_count": 7,
   "id": "632bbb0d-1319-4945-bebb-ec4631f510cb",
   "metadata": {},
   "outputs": [
    {
     "data": {
      "text/plain": [
       "(28302, 31)"
      ]
     },
     "execution_count": 7,
     "metadata": {},
     "output_type": "execute_result"
    }
   ],
   "source": [
    "Xsyn.shape"
   ]
  },
  {
   "cell_type": "code",
   "execution_count": 8,
   "id": "a50000d2-6064-450a-8837-a837271c2788",
   "metadata": {},
   "outputs": [
    {
     "data": {
      "text/plain": [
       "Counter({0.0: 990,\n",
       "         2.2: 979,\n",
       "         2.5: 979,\n",
       "         2.8: 978,\n",
       "         3.1: 986,\n",
       "         3.4: 972,\n",
       "         3.8: 973,\n",
       "         4.1: 976,\n",
       "         4.4: 979,\n",
       "         4.7: 976,\n",
       "         5.0: 977,\n",
       "         6.7: 981,\n",
       "         8.3: 972,\n",
       "         10.0: 973,\n",
       "         12.0: 969,\n",
       "         14.0: 978,\n",
       "         16.0: 980,\n",
       "         18.0: 976,\n",
       "         20.0: 974,\n",
       "         22.0: 975,\n",
       "         24.0: 980,\n",
       "         26.0: 973,\n",
       "         28.0: 983,\n",
       "         30.0: 977,\n",
       "         32.0: 967,\n",
       "         34.0: 971,\n",
       "         36.0: 976,\n",
       "         38.0: 964,\n",
       "         40.0: 968})"
      ]
     },
     "execution_count": 8,
     "metadata": {},
     "output_type": "execute_result"
    }
   ],
   "source": [
    "ctr = Counter(ysyn)\n",
    "ctr"
   ]
  },
  {
   "cell_type": "markdown",
   "id": "e86020a3-f298-4fe6-86bf-1c8cd1dd6a13",
   "metadata": {},
   "source": [
    "## Real World Data"
   ]
  },
  {
   "cell_type": "code",
   "execution_count": 9,
   "id": "5127a35a-1116-4493-b777-db88c464af10",
   "metadata": {},
   "outputs": [],
   "source": [
    "Xreal, yreal = load_syn_reg_data(data_path=REAL_DATA_PATH,\n",
    "                                 min_radius = 1.,\n",
    "                                 synthetic=False,\n",
    "                                 calibration_file=CALIBRATION_FILE)"
   ]
  },
  {
   "cell_type": "code",
   "execution_count": 10,
   "id": "dc6d6c70-cde6-49e4-b5a7-ddce46a122b9",
   "metadata": {},
   "outputs": [
    {
     "data": {
      "text/plain": [
       "(225, 31)"
      ]
     },
     "execution_count": 10,
     "metadata": {},
     "output_type": "execute_result"
    }
   ],
   "source": [
    "Xreal.shape"
   ]
  },
  {
   "cell_type": "code",
   "execution_count": 11,
   "id": "6e4112c5-3f57-4d0f-9122-e5dfc959afe3",
   "metadata": {},
   "outputs": [
    {
     "data": {
      "text/plain": [
       "Counter({0.0: 9,\n",
       "         1.5: 9,\n",
       "         10.0: 9,\n",
       "         12.0: 9,\n",
       "         14.0: 9,\n",
       "         16.0: 9,\n",
       "         17.0: 9,\n",
       "         19.0: 9,\n",
       "         2.5: 9,\n",
       "         21.0: 9,\n",
       "         23.0: 9,\n",
       "         25.0: 9,\n",
       "         27.0: 9,\n",
       "         29.0: 9,\n",
       "         3.5: 9,\n",
       "         31.0: 9,\n",
       "         33.0: 9,\n",
       "         35.0: 9,\n",
       "         37.0: 9,\n",
       "         39.0: 9,\n",
       "         4.5: 9,\n",
       "         40.0: 9,\n",
       "         5.5: 9,\n",
       "         7.0: 9,\n",
       "         8.0: 9})"
      ]
     },
     "execution_count": 11,
     "metadata": {},
     "output_type": "execute_result"
    }
   ],
   "source": [
    "ctr = Counter(yreal)\n",
    "ctr"
   ]
  },
  {
   "cell_type": "markdown",
   "id": "15e8f8d3-7036-40f9-8995-a63d362cdd93",
   "metadata": {},
   "source": [
    "## Combine both datasets and turn target variable into anomaly labels"
   ]
  },
  {
   "cell_type": "code",
   "execution_count": 12,
   "id": "977e7b59-3a80-4d70-be7a-0b2ccf9663f1",
   "metadata": {},
   "outputs": [
    {
     "data": {
      "text/plain": [
       "Counter({1.0: 999, -1.0: 27528})"
      ]
     },
     "execution_count": 12,
     "metadata": {},
     "output_type": "execute_result"
    }
   ],
   "source": [
    "# combine to full data set\n",
    "X = np.concatenate([Xsyn, Xreal], axis=0)\n",
    "y = np.concatenate([ysyn, yreal], axis=0)\n",
    "\n",
    "y_anomaly = y.copy()\n",
    "y_anomaly[y != 0] = -1\n",
    "y_anomaly[y == 0] = 1\n",
    "\n",
    "\n",
    "ctr = Counter(y_anomaly)\n",
    "ctr"
   ]
  },
  {
   "cell_type": "markdown",
   "id": "ff9d3cab-742f-48f1-8abe-3e7880624fe7",
   "metadata": {},
   "source": [
    "## sanity check label distribution of real-world data"
   ]
  },
  {
   "cell_type": "code",
   "execution_count": 13,
   "id": "1b9a20c2-5ea1-487e-b5df-fc79bd2148ce",
   "metadata": {},
   "outputs": [
    {
     "data": {
      "text/plain": [
       "Counter({1.0: 9, -1.0: 216})"
      ]
     },
     "execution_count": 13,
     "metadata": {},
     "output_type": "execute_result"
    }
   ],
   "source": [
    "ctr = Counter(y_anomaly[len(Xsyn):])\n",
    "ctr"
   ]
  },
  {
   "cell_type": "code",
   "execution_count": 14,
   "id": "19c6a78e-91c6-4315-bc8b-bb9cc1bd11b3",
   "metadata": {},
   "outputs": [],
   "source": [
    "n_repeats = 1\n",
    "\n",
    "cv = RepeatedAnomalyShuffleSplit(Xpos=Xsyn, Xneg=Xreal, n_splits=128, test_size=0.05, n_repeats=n_repeats,\n",
    "                                 random_state=random_state, unseen_only=True)"
   ]
  },
  {
   "cell_type": "code",
   "execution_count": 15,
   "id": "f1989b00-d06b-4113-a65c-625a717a2691",
   "metadata": {},
   "outputs": [],
   "source": [
    "scoring = get_anomaly_scoring()"
   ]
  },
  {
   "cell_type": "code",
   "execution_count": 16,
   "id": "b62ae73a-abaf-4d6e-9bb8-5a70100e544b",
   "metadata": {},
   "outputs": [
    {
     "data": {
      "text/plain": [
       "(28527, 31)"
      ]
     },
     "execution_count": 16,
     "metadata": {},
     "output_type": "execute_result"
    }
   ],
   "source": [
    "X.shape"
   ]
  },
  {
   "cell_type": "markdown",
   "id": "037126f0-55db-4e8c-9820-25093108e03e",
   "metadata": {},
   "source": [
    "# AB Testing"
   ]
  },
  {
   "cell_type": "code",
   "execution_count": 17,
   "id": "011e00da-870e-45d2-bff0-4a594b845582",
   "metadata": {},
   "outputs": [],
   "source": [
    "estimator = IsolationForest(contamination=0.5, n_estimators=100)\n",
    "pipeline = Pipeline([('est', estimator)])\n",
    "\n",
    "if_pipelines = [(\"IsolationForest\", pipeline)]"
   ]
  },
  {
   "cell_type": "code",
   "execution_count": 18,
   "id": "f7265d7e-53ae-457e-a7f7-7e711390bf24",
   "metadata": {},
   "outputs": [],
   "source": [
    "estimator = OneClassSVM(gamma='scale', nu=0.5)\n",
    "pipeline = Pipeline([('est', estimator)])\n",
    "\n",
    "svm_pipelines = [(\"OneClassSVM\", pipeline)]"
   ]
  },
  {
   "cell_type": "code",
   "execution_count": 19,
   "id": "c751b07b-e981-4c2c-a3c7-c3ebff1e637d",
   "metadata": {},
   "outputs": [],
   "source": [
    "estimator = EllipticEnvelope(contamination=0.4)\n",
    "pipeline = Pipeline([('est', estimator)])\n",
    "\n",
    "mcd_pipelines = [(\"EllipticEnvelope\", pipeline)]"
   ]
  },
  {
   "cell_type": "code",
   "execution_count": 20,
   "id": "ff8f9b26-8527-4f43-8bed-c945940a8b45",
   "metadata": {},
   "outputs": [
    {
     "data": {
      "text/plain": [
       "[('OneClassSVM', Pipeline(steps=[('est', OneClassSVM())]))]"
      ]
     },
     "execution_count": 20,
     "metadata": {},
     "output_type": "execute_result"
    }
   ],
   "source": [
    "svm_pipelines"
   ]
  },
  {
   "cell_type": "code",
   "execution_count": 21,
   "id": "ac29fe55-5652-4a03-a766-97c11631083b",
   "metadata": {},
   "outputs": [
    {
     "data": {
      "text/plain": [
       "[('IsolationForest',\n",
       "  Pipeline(steps=[('est', IsolationForest(contamination=0.5))]))]"
      ]
     },
     "execution_count": 21,
     "metadata": {},
     "output_type": "execute_result"
    }
   ],
   "source": [
    "if_pipelines"
   ]
  },
  {
   "cell_type": "code",
   "execution_count": 22,
   "id": "d8fef178-85e7-4620-bdc3-c31813a7463f",
   "metadata": {},
   "outputs": [
    {
     "data": {
      "text/plain": [
       "[('EllipticEnvelope',\n",
       "  Pipeline(steps=[('est', EllipticEnvelope(contamination=0.4))]))]"
      ]
     },
     "execution_count": 22,
     "metadata": {},
     "output_type": "execute_result"
    }
   ],
   "source": [
    "mcd_pipelines"
   ]
  },
  {
   "cell_type": "code",
   "execution_count": null,
   "id": "cd73e6eb-73fe-4a92-8650-052ef5e77a6a",
   "metadata": {},
   "outputs": [],
   "source": [
    "results = aabb_classification_benchmark(X=X, y=y_anomaly,\n",
    "                                   models=[if_pipelines, svm_pipelines, mcd_pipelines],\n",
    "                                   cv=cv,\n",
    "                                   scoring=scoring,\n",
    "                                   random_state=random_state)"
   ]
  },
  {
   "cell_type": "markdown",
   "id": "b889cff2-4de1-4da4-a3f9-e3195ed2dd5a",
   "metadata": {},
   "source": [
    "## Store results for later"
   ]
  },
  {
   "cell_type": "code",
   "execution_count": null,
   "id": "aa6bfe68-db98-444b-9f12-e795daa26ea4",
   "metadata": {},
   "outputs": [],
   "source": [
    "results.to_pickle(result_file)"
   ]
  },
  {
   "cell_type": "markdown",
   "id": "8c6383a6-9dc8-4e3f-8871-d3c41d182c1e",
   "metadata": {},
   "source": [
    "## Plot some results for overview"
   ]
  },
  {
   "cell_type": "code",
   "execution_count": null,
   "id": "8ac011bd-d063-48b6-aa1f-4b7452850456",
   "metadata": {},
   "outputs": [],
   "source": [
    "for key in results.columns[2:4]:\n",
    "    fig = plot_metrics(extract_metrics(results, [key]))\n",
    "    plt.show()"
   ]
  }
 ],
 "metadata": {
  "kernelspec": {
   "display_name": "Python 3 (ipykernel)",
   "language": "python",
   "name": "python3"
  },
  "language_info": {
   "codemirror_mode": {
    "name": "ipython",
    "version": 3
   },
   "file_extension": ".py",
   "mimetype": "text/x-python",
   "name": "python",
   "nbconvert_exporter": "python",
   "pygments_lexer": "ipython3",
   "version": "3.9.12"
  }
 },
 "nbformat": 4,
 "nbformat_minor": 5
}
