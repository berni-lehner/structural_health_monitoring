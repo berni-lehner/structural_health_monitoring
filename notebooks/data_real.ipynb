{
 "cells": [
  {
   "cell_type": "code",
   "execution_count": 1,
   "id": "344a9419-7780-41d7-a9f0-63ce1c36a94c",
   "metadata": {},
   "outputs": [],
   "source": [
    "random_state = 42"
   ]
  },
  {
   "cell_type": "code",
   "execution_count": 2,
   "id": "e6eb16a0-75b8-410e-bf8b-0abaca437c6f",
   "metadata": {},
   "outputs": [],
   "source": [
    "import sys\n",
    "import os\n",
    "import time\n",
    "import glob\n",
    "from pathlib import Path\n",
    "import sklearn\n",
    "import pandas as pd\n",
    "import numpy as np\n",
    "from collections import Counter\n",
    "\n",
    "\n",
    "import matplotlib.pyplot as plt\n",
    "import seaborn as sns\n",
    "\n",
    "\n",
    "IN_COLAB = 'google.colab' in sys.modules\n",
    "\n",
    "if(IN_COLAB):\n",
    "    !git clone https://github.com/berni-lehner/structural_health_monitoring.git\n",
    "    sys.path.insert(0,\"/content/structural_health_monitoring/src\")\n",
    "    sys.path.insert(0,\"/content/structural_health_monitoring/data\")    \n",
    "else:\n",
    "    sys.path.insert(0,\"../src\")\n",
    "    sys.path.insert(0,\"../data\")\n",
    "    \n",
    "\n",
    "\n",
    "try:\n",
    "    from zippeekiyay import namelist\n",
    "except ImportError or ModuleNotFoundError:\n",
    "    print('installing zippee-ki-yay...')\n",
    "    !pip install git+https://github.com/berni-lehner/zippee-ki-yay.git\n",
    "\n",
    "    from zippeekiyay import namelist"
   ]
  },
  {
   "cell_type": "code",
   "execution_count": 3,
   "id": "7a2e2d14-a08f-4837-bc60-e11fcaa10599",
   "metadata": {},
   "outputs": [],
   "source": [
    "from DataDownloader import DataDownloader as ddl\n",
    "from data_utils import load_preprocessed_data, FEATURE_LIST\n",
    "from manifold_utils import tsne_embedding\n",
    "from LogFilterbank import LogFilterbank\n",
    "from plot_utils import plot_embedding_targets, init_plotting\n",
    "from plot_utils import plot_classwise_dist, plot_classwise_kde\n",
    "from feature_utils import extract_dctc\n",
    "\n",
    "# configure fonts, etc...\n",
    "init_plotting()"
   ]
  },
  {
   "cell_type": "code",
   "execution_count": 6,
   "id": "824c1c6b-f7d6-4c1c-81f9-9dec77255c62",
   "metadata": {},
   "outputs": [],
   "source": [
    "data_path = Path(r\"C:\\Users\\bernh\\Dropbox\\github\\structural_health_monitoring\\data\\real_world\")"
   ]
  },
  {
   "cell_type": "code",
   "execution_count": 7,
   "id": "cf9bf1bb-7b5b-477c-a157-aa5700fd1efa",
   "metadata": {},
   "outputs": [
    {
     "name": "stdout",
     "output_type": "stream",
     "text": [
      "files: 314\n"
     ]
    }
   ],
   "source": [
    "df, fb = load_preprocessed_data(data_path, target_col='y_radius', synthetic=False)"
   ]
  },
  {
   "cell_type": "code",
   "execution_count": 18,
   "id": "033b1bb8-8c2b-4957-9b65-fb47eccf5942",
   "metadata": {},
   "outputs": [
    {
     "name": "stdout",
     "output_type": "stream",
     "text": [
      "<class 'pandas.core.frame.DataFrame'>\n",
      "RangeIndex: 314 entries, 0 to 313\n",
      "Data columns (total 33 columns):\n",
      " #   Column    Non-Null Count  Dtype  \n",
      "---  ------    --------------  -----  \n",
      " 0   0         314 non-null    float32\n",
      " 1   1         314 non-null    float32\n",
      " 2   2         314 non-null    float32\n",
      " 3   3         314 non-null    float32\n",
      " 4   4         314 non-null    float32\n",
      " 5   5         314 non-null    float32\n",
      " 6   6         314 non-null    float32\n",
      " 7   7         314 non-null    float32\n",
      " 8   8         314 non-null    float32\n",
      " 9   9         314 non-null    float32\n",
      " 10  10        314 non-null    float32\n",
      " 11  11        314 non-null    float32\n",
      " 12  12        314 non-null    float32\n",
      " 13  13        314 non-null    float32\n",
      " 14  14        314 non-null    float32\n",
      " 15  15        314 non-null    float32\n",
      " 16  16        314 non-null    float32\n",
      " 17  17        314 non-null    float32\n",
      " 18  18        314 non-null    float32\n",
      " 19  19        314 non-null    float32\n",
      " 20  20        314 non-null    float32\n",
      " 21  21        314 non-null    float32\n",
      " 22  22        314 non-null    float32\n",
      " 23  23        314 non-null    float32\n",
      " 24  24        314 non-null    float32\n",
      " 25  25        314 non-null    float32\n",
      " 26  26        314 non-null    float32\n",
      " 27  27        314 non-null    float32\n",
      " 28  28        314 non-null    float32\n",
      " 29  29        314 non-null    float32\n",
      " 30  30        314 non-null    float32\n",
      " 31  31        314 non-null    float32\n",
      " 32  y_radius  314 non-null    float32\n",
      "dtypes: float32(33)\n",
      "memory usage: 40.6 KB\n"
     ]
    }
   ],
   "source": [
    "df.info()"
   ]
  },
  {
   "cell_type": "code",
   "execution_count": 17,
   "id": "6e4112c5-3f57-4d0f-9122-e5dfc959afe3",
   "metadata": {},
   "outputs": [
    {
     "data": {
      "text/plain": [
       "Counter({0.5: 11,\n",
       "         0.0: 11,\n",
       "         1.5: 11,\n",
       "         10.0: 11,\n",
       "         12.0: 11,\n",
       "         14.0: 11,\n",
       "         16.0: 11,\n",
       "         17.0: 11,\n",
       "         19.0: 11,\n",
       "         1.0: 11,\n",
       "         2.5: 11,\n",
       "         20.0: 9,\n",
       "         21.0: 11,\n",
       "         23.0: 11,\n",
       "         25.0: 11,\n",
       "         27.0: 11,\n",
       "         29.0: 11,\n",
       "         3.5: 11,\n",
       "         31.0: 11,\n",
       "         33.0: 11,\n",
       "         35.0: 11,\n",
       "         37.0: 11,\n",
       "         39.0: 11,\n",
       "         4.5: 11,\n",
       "         40.0: 19,\n",
       "         5.5: 11,\n",
       "         7.0: 11,\n",
       "         8.0: 11})"
      ]
     },
     "execution_count": 17,
     "metadata": {},
     "output_type": "execute_result"
    }
   ],
   "source": [
    "ctr = Counter(df['y_radius'])\n",
    "ctr"
   ]
  }
 ],
 "metadata": {
  "kernelspec": {
   "display_name": "Python 3 (ipykernel)",
   "language": "python",
   "name": "python3"
  },
  "language_info": {
   "codemirror_mode": {
    "name": "ipython",
    "version": 3
   },
   "file_extension": ".py",
   "mimetype": "text/x-python",
   "name": "python",
   "nbconvert_exporter": "python",
   "pygments_lexer": "ipython3",
   "version": "3.9.12"
  }
 },
 "nbformat": 4,
 "nbformat_minor": 5
}
