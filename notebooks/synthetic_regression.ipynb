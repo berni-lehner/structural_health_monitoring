{
 "cells": [
  {
   "cell_type": "markdown",
   "id": "434fb6b8-77b0-49b5-9b79-482919303f13",
   "metadata": {},
   "source": [
    "# Anomaly Size Regression on Synthetic Data\n",
    "In this notebook, we ...\n",
    "\n",
    "[![Open In Colab](https://colab.research.google.com/assets/colab-badge.svg)](https://colab.research.google.com/github/berni-lehner/structural_health_monitoring/blob/main/notebooks/synthetic_regression.ipynb)"
   ]
  },
  {
   "cell_type": "code",
   "execution_count": 1,
   "id": "75a0c53e-5ea7-42b9-a299-6849a91c9cdf",
   "metadata": {},
   "outputs": [],
   "source": [
    "import sys\n",
    "import os\n",
    "import time\n",
    "import glob\n",
    "from pathlib import Path\n",
    "import sklearn\n",
    "import pandas as pd\n",
    "import numpy as np\n",
    "from collections import Counter\n",
    "\n",
    "from sklearn.preprocessing import StandardScaler\n",
    "\n",
    "import matplotlib.pyplot as plt\n",
    "import seaborn as sns\n",
    "import ipywidgets as widgets\n",
    "\n",
    "DATA_PATH = Path(r\"../data/synthetic/\")\n",
    "random_state = None"
   ]
  },
  {
   "cell_type": "code",
   "execution_count": 2,
   "id": "7af5021a-ffb8-47a0-a799-43ac1caf62a0",
   "metadata": {},
   "outputs": [],
   "source": [
    "def init():\n",
    "    IN_COLAB = 'google.colab' in sys.modules\n",
    "\n",
    "    if(IN_COLAB):\n",
    "        !git clone https://github.com/berni-lehner/structural_health_monitoring.git\n",
    "        sys.path.insert(0,\"/content/structural_health_monitoring/src\")\n",
    "        sys.path.insert(0,\"/content/structural_health_monitoring/data\")    \n",
    "    else:\n",
    "        sys.path.insert(0,\"../src\")\n",
    "        sys.path.insert(0,\"../data\")\n",
    "\n",
    "    try:\n",
    "        from zippeekiyay import namelist\n",
    "    except ImportError or ModuleNotFoundError:\n",
    "        print('installing zippee-ki-yay...')\n",
    "        !pip install git+https://github.com/berni-lehner/zippee-ki-yay.git\n",
    "\n",
    "        from zippeekiyay import namelist"
   ]
  },
  {
   "cell_type": "code",
   "execution_count": 3,
   "id": "4bd07ab4-85f8-45a6-937f-a484794fa3ae",
   "metadata": {},
   "outputs": [],
   "source": [
    "def init_data():\n",
    "    from DataDownloader import DataDownloader as ddl\n",
    "    \n",
    "    url = r\"https://sandbox.zenodo.org/record/1115172/files/data_synthetic.zip\"\n",
    "\n",
    "    start_time = time.perf_counter()\n",
    "    dl_succeed = ddl.download_and_unpack(url, DATA_PATH, cache=True)\n",
    "    end_time = time.perf_counter()\n",
    "    print(f\"time passed: {end_time-start_time:.2f} s\")\n",
    "    print(f\"downloading successful: {dl_succeed}\")    "
   ]
  },
  {
   "cell_type": "code",
   "execution_count": 4,
   "id": "698be2ff-175b-4d5c-9184-c6f40d92091d",
   "metadata": {},
   "outputs": [
    {
     "name": "stdout",
     "output_type": "stream",
     "text": [
      "time passed: 4.57 s\n",
      "downloading successful: True\n"
     ]
    }
   ],
   "source": [
    "# initialize environment, paths, etc...\n",
    "init()\n",
    "#...and download raw data if not already downloaded\n",
    "init_data()\n",
    "\n",
    "\n",
    "from plot_utils import (\n",
    "    init_plotting,\n",
    "    plot_metrics,\n",
    "    plot_cv_indices)\n",
    "\n",
    "# configure fonts, etc...\n",
    "init_plotting()\n",
    "\n",
    "from scoring_utils import get_anomaly_scoring\n",
    "from cv_utils import (\n",
    "    AnomalyShuffleSplit,\n",
    "    RepeatedAnomalyShuffleSplit,\n",
    "    CreateAnomalyData,\n",
    "    dump_cv)\n",
    "\n",
    "from bench_utils import (\n",
    "    regression_benchmark,\n",
    "    get_aa_experiment,\n",
    "    aabb_classification_benchmark,\n",
    "    extract_metrics)"
   ]
  },
  {
   "cell_type": "code",
   "execution_count": 5,
   "id": "30f473e8-c06c-4ab4-b791-9dac9d040fc1",
   "metadata": {},
   "outputs": [
    {
     "name": "stdout",
     "output_type": "stream",
     "text": [
      "<class 'pandas.core.frame.DataFrame'>\n",
      "RangeIndex: 34152 entries, 0 to 34151\n",
      "Data columns (total 33 columns):\n",
      " #   Column    Non-Null Count  Dtype  \n",
      "---  ------    --------------  -----  \n",
      " 0   0         34152 non-null  float32\n",
      " 1   1         34152 non-null  float32\n",
      " 2   2         34152 non-null  float32\n",
      " 3   3         34152 non-null  float32\n",
      " 4   4         34152 non-null  float32\n",
      " 5   5         34152 non-null  float32\n",
      " 6   6         34152 non-null  float32\n",
      " 7   7         34152 non-null  float32\n",
      " 8   8         34152 non-null  float32\n",
      " 9   9         34152 non-null  float32\n",
      " 10  10        34152 non-null  float32\n",
      " 11  11        34152 non-null  float32\n",
      " 12  12        34152 non-null  float32\n",
      " 13  13        34152 non-null  float32\n",
      " 14  14        34152 non-null  float32\n",
      " 15  15        34152 non-null  float32\n",
      " 16  16        34152 non-null  float32\n",
      " 17  17        34152 non-null  float32\n",
      " 18  18        34152 non-null  float32\n",
      " 19  19        34152 non-null  float32\n",
      " 20  20        34152 non-null  float32\n",
      " 21  21        34152 non-null  float32\n",
      " 22  22        34152 non-null  float32\n",
      " 23  23        34152 non-null  float32\n",
      " 24  24        34152 non-null  float32\n",
      " 25  25        34152 non-null  float32\n",
      " 26  26        34152 non-null  float32\n",
      " 27  27        34152 non-null  float32\n",
      " 28  28        34152 non-null  float32\n",
      " 29  29        34152 non-null  float32\n",
      " 30  30        34152 non-null  float32\n",
      " 31  31        34152 non-null  float32\n",
      " 32  y_radius  34152 non-null  float32\n",
      "dtypes: float32(33)\n",
      "memory usage: 4.3 MB\n"
     ]
    }
   ],
   "source": [
    "from data_utils import load_synthetic_data\n",
    "\n",
    "target_col='y_radius'\n",
    "\n",
    "df, fb = load_synthetic_data(DATA_PATH, target_col=target_col)\n",
    "\n",
    "df.info()"
   ]
  },
  {
   "cell_type": "code",
   "execution_count": null,
   "id": "adc097e6-eae5-4108-ba26-dd804fa34a66",
   "metadata": {},
   "outputs": [],
   "source": []
  },
  {
   "cell_type": "code",
   "execution_count": 6,
   "id": "4d92f633-dc8b-46ea-b38a-73686d611347",
   "metadata": {},
   "outputs": [
    {
     "data": {
      "text/plain": [
       "Counter({0.0: 990,\n",
       "         0.3125: 975,\n",
       "         0.625: 971,\n",
       "         0.9375: 980,\n",
       "         1.25: 978,\n",
       "         1.5625: 968,\n",
       "         1.875: 978,\n",
       "         2.1875: 979,\n",
       "         2.5: 979,\n",
       "         2.8125: 978,\n",
       "         3.125: 986,\n",
       "         3.4375: 972,\n",
       "         3.75: 973,\n",
       "         4.0625: 976,\n",
       "         4.375: 979,\n",
       "         4.6875: 976,\n",
       "         5.0: 977,\n",
       "         6.666999816894531: 981,\n",
       "         8.333000183105469: 972,\n",
       "         10.0: 973,\n",
       "         12.0: 969,\n",
       "         14.0: 978,\n",
       "         16.0: 980,\n",
       "         18.0: 976,\n",
       "         20.0: 974,\n",
       "         22.0: 975,\n",
       "         24.0: 980,\n",
       "         26.0: 973,\n",
       "         28.0: 983,\n",
       "         30.0: 977,\n",
       "         32.0: 967,\n",
       "         34.0: 971,\n",
       "         36.0: 976,\n",
       "         38.0: 964,\n",
       "         40.0: 968})"
      ]
     },
     "execution_count": 6,
     "metadata": {},
     "output_type": "execute_result"
    }
   ],
   "source": [
    "cnt = Counter(df[target_col])\n",
    "cnt"
   ]
  },
  {
   "cell_type": "markdown",
   "id": "8639fc7a-af92-4b90-87c3-e32741ff34e7",
   "metadata": {},
   "source": [
    "## ignore defects with unrealistically small size"
   ]
  },
  {
   "cell_type": "code",
   "execution_count": 7,
   "id": "a7c3cefb-0ee0-4ff7-87a3-03707b6aca51",
   "metadata": {},
   "outputs": [],
   "source": [
    "#ignore_radius = 4.0 # this is justified according to material properties\n",
    "ignore_radius = 2.5 # this is justified according to material properties\n",
    "\n",
    "\n",
    "df_normal =  df[df[target_col]==0.0]\n",
    "df_anomaly = df[df[target_col]>ignore_radius]\n",
    "\n",
    "Xpos = df_normal.drop(columns=[target_col]).values\n",
    "ypos = df_normal[target_col].values\n",
    "\n",
    "Xneg = df_anomaly.drop(columns=[target_col]).values\n",
    "yneg = df_anomaly[target_col].values\n"
   ]
  },
  {
   "cell_type": "code",
   "execution_count": 8,
   "id": "d83b9158-2304-4bae-b7f5-fe5dfdc60c09",
   "metadata": {},
   "outputs": [],
   "source": [
    "X = np.concatenate([Xpos, Xneg], axis=0)\n",
    "y = np.concatenate([ypos, yneg], axis=0)"
   ]
  },
  {
   "cell_type": "code",
   "execution_count": 9,
   "id": "c4ec505a-9807-410d-8740-bb7b9c78f01f",
   "metadata": {},
   "outputs": [
    {
     "data": {
      "text/plain": [
       "Counter({0.0: 990,\n",
       "         2.8125: 978,\n",
       "         3.125: 986,\n",
       "         3.4375: 972,\n",
       "         3.75: 973,\n",
       "         4.0625: 976,\n",
       "         4.375: 979,\n",
       "         4.6875: 976,\n",
       "         5.0: 977,\n",
       "         6.667: 981,\n",
       "         8.333: 972,\n",
       "         10.0: 973,\n",
       "         12.0: 969,\n",
       "         14.0: 978,\n",
       "         16.0: 980,\n",
       "         18.0: 976,\n",
       "         20.0: 974,\n",
       "         22.0: 975,\n",
       "         24.0: 980,\n",
       "         26.0: 973,\n",
       "         28.0: 983,\n",
       "         30.0: 977,\n",
       "         32.0: 967,\n",
       "         34.0: 971,\n",
       "         36.0: 976,\n",
       "         38.0: 964,\n",
       "         40.0: 968})"
      ]
     },
     "execution_count": 9,
     "metadata": {},
     "output_type": "execute_result"
    }
   ],
   "source": [
    "cnt = Counter(y)\n",
    "cnt"
   ]
  },
  {
   "cell_type": "markdown",
   "id": "a225f493-970a-484b-adb7-0668295431c0",
   "metadata": {},
   "source": [
    "### Anomaly Detection-specific scoring"
   ]
  },
  {
   "cell_type": "code",
   "execution_count": 10,
   "id": "58b267f3-3f57-4397-a4f1-e834b15b1400",
   "metadata": {},
   "outputs": [],
   "source": [
    "scoring = None"
   ]
  },
  {
   "cell_type": "markdown",
   "id": "6da5aae7-76ef-41ab-a6fe-fc2afdc3be2d",
   "metadata": {},
   "source": [
    "# A-A Testing"
   ]
  },
  {
   "cell_type": "code",
   "execution_count": 11,
   "id": "2623df8c-f6fb-4149-bd61-135208f49d08",
   "metadata": {},
   "outputs": [],
   "source": [
    "from sklearn.linear_model import LinearRegression, Ridge\n",
    "from sklearn.svm import SVR\n",
    "from sklearn.neural_network import MLPRegressor\n",
    "from sklearn.multioutput import MultiOutputRegressor\n",
    "from sklearn.pipeline import Pipeline\n",
    "from sklearn.preprocessing import StandardScaler"
   ]
  },
  {
   "cell_type": "code",
   "execution_count": 12,
   "id": "f6bd13d0-db99-4388-b4c6-8129269872ae",
   "metadata": {},
   "outputs": [],
   "source": [
    "if False:\n",
    "    estimators = [\n",
    "        ('LinReg', LinearRegression()),\n",
    "        ('Ridge', Ridge(alpha=.5)),\n",
    "        ('SVR_rbf', SVR(kernel='rbf', C=100, gamma=0.1, epsilon=.1)),\n",
    "        ('SVR_lin', SVR(kernel='linear', C=100, gamma='auto')),\n",
    "        ('SVR_poly', SVR(kernel='poly', C=100, gamma='auto', degree=3, epsilon=.1, coef0=1)),\n",
    "        ('MLP', MLPRegressor()),\n",
    "    ]"
   ]
  },
  {
   "cell_type": "code",
   "execution_count": 13,
   "id": "44334087-7ce8-4e52-aa82-65cb59901ad7",
   "metadata": {},
   "outputs": [],
   "source": [
    "#estimator = MLPRegressor()\n",
    "estimator = SVR(epsilon=0.05)\n",
    "pipeline = Pipeline([('scaler', StandardScaler()), ('est', estimator)])\n",
    "\n",
    "pipelines = get_aa_experiment(pipeline, n_repeats=5, name=\"SVR\")"
   ]
  },
  {
   "cell_type": "code",
   "execution_count": 14,
   "id": "aafd9a89-a74d-4391-8766-7676d8275b0d",
   "metadata": {},
   "outputs": [
    {
     "data": {
      "text/plain": [
       "[('SVR_0',\n",
       "  Pipeline(steps=[('scaler', StandardScaler()), ('est', SVR(epsilon=0.05))])),\n",
       " ('SVR_1',\n",
       "  Pipeline(steps=[('scaler', StandardScaler()), ('est', SVR(epsilon=0.05))])),\n",
       " ('SVR_2',\n",
       "  Pipeline(steps=[('scaler', StandardScaler()), ('est', SVR(epsilon=0.05))])),\n",
       " ('SVR_3',\n",
       "  Pipeline(steps=[('scaler', StandardScaler()), ('est', SVR(epsilon=0.05))])),\n",
       " ('SVR_4',\n",
       "  Pipeline(steps=[('scaler', StandardScaler()), ('est', SVR(epsilon=0.05))]))]"
      ]
     },
     "execution_count": 14,
     "metadata": {},
     "output_type": "execute_result"
    }
   ],
   "source": [
    "pipelines"
   ]
  },
  {
   "cell_type": "markdown",
   "id": "da58941d-a009-4ef5-a247-c2ef53de40b1",
   "metadata": {},
   "source": [
    "## Create CV splits for each model instance separately"
   ]
  },
  {
   "cell_type": "code",
   "execution_count": 15,
   "id": "26d2de6c-24aa-4848-bc21-f694564daf1c",
   "metadata": {},
   "outputs": [
    {
     "data": {
      "text/plain": [
       "[[(array([16727, 25277, 21227, ..., 23849, 19053, 14727], dtype=int64),\n",
       "   array([ 5474, 12381,  8956, ...,  1557,  6083, 15897], dtype=int64)),\n",
       "  (array([17006,   469,  8244, ...,  7034, 17610,  1730], dtype=int64),\n",
       "   array([16755,  8121,  2337, ..., 14315,  5174, 23346], dtype=int64)),\n",
       "  (array([10682, 20825, 21148, ...,  7019, 17755,  6691], dtype=int64),\n",
       "   array([ 4659, 13016,  1728, ..., 12262,  9932, 14907], dtype=int64)),\n",
       "  (array([25998, 24343, 15421, ...,  8705, 14488, 17485], dtype=int64),\n",
       "   array([22782, 20554, 18973, ..., 13658, 22084,  3815], dtype=int64)),\n",
       "  (array([16898, 12843, 25671, ..., 26101,  8259, 13861], dtype=int64),\n",
       "   array([13131, 16805,  9524, ..., 22263,  6620,  9786], dtype=int64)),\n",
       "  (array([14503, 12021, 18709, ...,  7160, 12341, 12735], dtype=int64),\n",
       "   array([ 2289,  4121, 19804, ..., 14837, 11513, 19198], dtype=int64)),\n",
       "  (array([19851, 20579, 26240, ..., 15858, 22485, 18456], dtype=int64),\n",
       "   array([14027,  4547,  2744, ..., 16114, 22230, 25612], dtype=int64)),\n",
       "  (array([26043,  2571, 17921, ...,  2722, 13995, 23851], dtype=int64),\n",
       "   array([ 5562, 21895,  9977, ...,  7773,   387, 11607], dtype=int64)),\n",
       "  (array([ 4608, 19860,  7960, ..., 14913, 17754,  6417], dtype=int64),\n",
       "   array([21120,   968, 22007, ..., 17999, 13291, 26144], dtype=int64)),\n",
       "  (array([17505,  9218, 10291, ...,   705,  1487,  5106], dtype=int64),\n",
       "   array([18534,  6573, 13333, ..., 22581,  3289,  4626], dtype=int64)),\n",
       "  (array([ 9465,  7111,  3841, ...,    70, 14780, 26241], dtype=int64),\n",
       "   array([25820, 20562, 12517, ..., 26251, 14007, 26259], dtype=int64)),\n",
       "  (array([18071, 22444, 20374, ..., 24936, 16006,  8530], dtype=int64),\n",
       "   array([ 3621, 18918,  2378, ...,  7262, 17599, 18125], dtype=int64)),\n",
       "  (array([ 1590,  5035, 19393, ..., 18316,  7833, 10433], dtype=int64),\n",
       "   array([ 5833,  1909,  7994, ...,  1283, 23097, 10933], dtype=int64)),\n",
       "  (array([23262, 12175,  3550, ..., 25066, 17200,  6531], dtype=int64),\n",
       "   array([2334, 7634,  237, ..., 6097, 2516, 3011], dtype=int64)),\n",
       "  (array([15091,   932, 15431, ..., 12558, 10602, 18216], dtype=int64),\n",
       "   array([ 1929, 17352, 21796, ..., 23603, 12380, 17206], dtype=int64)),\n",
       "  (array([19835, 16580,  3468, ..., 13576,  1555, 25445], dtype=int64),\n",
       "   array([22994, 22450, 10254, ...,  2270, 10672,  8948], dtype=int64)),\n",
       "  (array([ 4035, 11046, 20035, ..., 24542,  1726,  6016], dtype=int64),\n",
       "   array([ 3954, 18435, 17670, ..., 11176,  2463,  9840], dtype=int64)),\n",
       "  (array([ 2097, 16425, 13352, ..., 18164,  4064,  8814], dtype=int64),\n",
       "   array([17340,  9363,  6024, ..., 18366,  4061,  7357], dtype=int64)),\n",
       "  (array([ 9932, 17469,  5031, ..., 15177, 13912, 23362], dtype=int64),\n",
       "   array([24580, 10256,    48, ..., 25167, 22429, 17181], dtype=int64)),\n",
       "  (array([21321, 11443, 12104, ..., 11426, 26050, 13992], dtype=int64),\n",
       "   array([18695, 16422, 10691, ...,  4383, 11656,  3079], dtype=int64)),\n",
       "  (array([15013, 17672, 21991, ..., 16822, 22926, 20901], dtype=int64),\n",
       "   array([19040,  1574, 11828, ...,  9762, 16561,  8626], dtype=int64)),\n",
       "  (array([14461,  5181, 14236, ..., 16791, 16181, 24488], dtype=int64),\n",
       "   array([ 5505, 17115,  2352, ..., 20108, 13812, 19681], dtype=int64)),\n",
       "  (array([  508, 23507, 16239, ..., 10738,  2228, 23125], dtype=int64),\n",
       "   array([10743, 10262,  7481, ...,  2013, 14493,  2662], dtype=int64)),\n",
       "  (array([17329, 23902, 11830, ..., 16479, 15584, 13379], dtype=int64),\n",
       "   array([ 2232,  9400, 18497, ..., 21608, 24797,  6399], dtype=int64)),\n",
       "  (array([13783, 18303,  8381, ..., 12730,  6022, 14519], dtype=int64),\n",
       "   array([17408, 19941,  5847, ...,  8010, 14192,  8375], dtype=int64)),\n",
       "  (array([ 2334, 11855, 24820, ...,  5032,  2795,  5610], dtype=int64),\n",
       "   array([19434,  5163, 21746, ..., 12251, 10065, 18959], dtype=int64)),\n",
       "  (array([ 8073, 23040,  8953, ...,  5637,  2120,  3587], dtype=int64),\n",
       "   array([25195,  9597, 17650, ..., 15682, 18464, 12041], dtype=int64)),\n",
       "  (array([21354, 12308,  9938, ..., 11530, 23976, 19559], dtype=int64),\n",
       "   array([ 4643,  6443, 10328, ..., 15216, 16521, 19476], dtype=int64)),\n",
       "  (array([ 2209,   639, 15009, ..., 25822,  3957, 10429], dtype=int64),\n",
       "   array([ 4977,  8156,  8230, ...,  1424, 12030,  9055], dtype=int64)),\n",
       "  (array([15397,  7956,  1877, ...,  2321,  9836,  7299], dtype=int64),\n",
       "   array([15388, 25203, 22181, ...,  8432, 16889,  3035], dtype=int64)),\n",
       "  (array([25101, 25971,  4490, ..., 11821,  3350,  5599], dtype=int64),\n",
       "   array([18468, 20279, 17635, ...,  6708, 11080, 17997], dtype=int64)),\n",
       "  (array([  378, 15976,  4413, ..., 11446, 20664, 25590], dtype=int64),\n",
       "   array([18899, 23109,  8178, ..., 23734, 21155,    64], dtype=int64))],\n",
       " [(array([14573, 20351,  1320, ...,  8646,  4744, 17733], dtype=int64),\n",
       "   array([10279,  5984,  4260, ..., 20601,  1697,  8488], dtype=int64)),\n",
       "  (array([ 3973, 18874,  8453, ..., 22249, 23545,  4784], dtype=int64),\n",
       "   array([14697, 23805,  5273, ..., 23657,  8250,  6382], dtype=int64)),\n",
       "  (array([14606, 23544,  1468, ...,  7408, 22830, 14724], dtype=int64),\n",
       "   array([ 3587,  5782,  3829, ..., 11484, 15212, 22531], dtype=int64)),\n",
       "  (array([18163,  2668,  8177, ..., 10107,  3236, 14170], dtype=int64),\n",
       "   array([ 8717,  5858,  9560, ..., 15128,  6293, 11982], dtype=int64)),\n",
       "  (array([15026, 14736,  2487, ..., 25043, 25509,  2818], dtype=int64),\n",
       "   array([   42, 21175,  2607, ..., 18419, 24440, 16549], dtype=int64)),\n",
       "  (array([ 6673,  5425, 23871, ..., 25883, 12352, 20742], dtype=int64),\n",
       "   array([24475,  7183,  8470, ..., 24907, 25591, 23932], dtype=int64)),\n",
       "  (array([18350, 16741, 22250, ..., 21540,  1695,  2653], dtype=int64),\n",
       "   array([20095,  7842, 17681, ..., 15506, 21643, 13423], dtype=int64)),\n",
       "  (array([ 1325, 24516, 20035, ..., 24422, 25796,   573], dtype=int64),\n",
       "   array([21119, 16752, 25400, ..., 18800, 14800,  4947], dtype=int64)),\n",
       "  (array([23833,   163, 16264, ..., 10488,  9025,  5337], dtype=int64),\n",
       "   array([ 2348, 20064, 21925, ..., 20959,  3878,  7930], dtype=int64)),\n",
       "  (array([ 1220, 17966,  3458, ..., 19021,  5339,  3448], dtype=int64),\n",
       "   array([18822,  2204, 23368, ...,  4251, 16213, 19208], dtype=int64)),\n",
       "  (array([15776,  1116,  5968, ..., 24844, 23383,    33], dtype=int64),\n",
       "   array([16806, 13351,  8615, ..., 13275, 17207, 12738], dtype=int64)),\n",
       "  (array([25662, 24701, 14527, ...,  2292,  2259, 22710], dtype=int64),\n",
       "   array([20915,  9213, 23167, ...,  9080, 23633,  2525], dtype=int64)),\n",
       "  (array([19026, 22549, 20682, ..., 11384,  9935,  3593], dtype=int64),\n",
       "   array([10287, 14528,   824, ...,  5153,  5363,  1353], dtype=int64)),\n",
       "  (array([ 8077, 13738,  4939, ...,  1941, 17008, 11414], dtype=int64),\n",
       "   array([11615, 21693,  2647, ...,  3178, 22926,  9191], dtype=int64)),\n",
       "  (array([ 6919, 22692, 18623, ..., 23639, 10216, 23235], dtype=int64),\n",
       "   array([15607,  2019, 13648, ..., 11224, 14153,  5159], dtype=int64)),\n",
       "  (array([19254, 10855, 13087, ...,  9619, 13401, 18492], dtype=int64),\n",
       "   array([14075, 11746, 13102, ...,  7241,  8834, 24911], dtype=int64)),\n",
       "  (array([17533, 16469,  7801, ..., 21473, 25345,  2584], dtype=int64),\n",
       "   array([23486,  8989,  3929, ..., 15585, 24777, 11420], dtype=int64)),\n",
       "  (array([ 7645,  3085, 15399, ...,  4538,  1798,  7491], dtype=int64),\n",
       "   array([ 4088, 15808, 20994, ...,  1579,  1365, 18264], dtype=int64)),\n",
       "  (array([ 5966, 11846,  8113, ..., 22600,  1553,  7110], dtype=int64),\n",
       "   array([12767,   887,  9724, ..., 11924, 15934,  8410], dtype=int64)),\n",
       "  (array([ 1024, 12203,  2515, ...,  5512, 24485, 12334], dtype=int64),\n",
       "   array([21996, 20596,  5942, ...,  7085, 17223,  4933], dtype=int64)),\n",
       "  (array([ 6740, 13162,  5456, ...,  2371, 11867, 24346], dtype=int64),\n",
       "   array([22467, 13448,  7157, ..., 12216, 20202,  9963], dtype=int64)),\n",
       "  (array([ 6946, 10003,  1823, ..., 13747,  8103, 19056], dtype=int64),\n",
       "   array([25670, 20101,   732, ..., 11332, 13541,  4564], dtype=int64)),\n",
       "  (array([13116,  9622,  7765, ..., 24961, 14961,  4968], dtype=int64),\n",
       "   array([24757, 18263, 15629, ..., 11548,  1345, 20763], dtype=int64)),\n",
       "  (array([ 4070, 15988,  2080, ..., 16951,  3219,  7545], dtype=int64),\n",
       "   array([18017, 12076, 11894, ..., 10920,   917,  5478], dtype=int64)),\n",
       "  (array([ 5262,  4158, 13412, ..., 21724, 11036,   277], dtype=int64),\n",
       "   array([ 8733, 14874, 22193, ...,  6336, 14157, 19776], dtype=int64)),\n",
       "  (array([13144, 20589, 12864, ...,  4879, 14155, 10441], dtype=int64),\n",
       "   array([25346,  3606, 24143, ..., 21663, 18844, 25730], dtype=int64)),\n",
       "  (array([22637,  4743,  5103, ..., 10912, 19245, 25310], dtype=int64),\n",
       "   array([ 2837,  5267, 21836, ...,  2717, 21490, 21663], dtype=int64)),\n",
       "  (array([14155,  6592,  7960, ..., 16485, 16628, 15627], dtype=int64),\n",
       "   array([13112, 24246, 21926, ...,  4093, 24132, 20617], dtype=int64)),\n",
       "  (array([17477,  5687,  3764, ...,  3915,   255, 18901], dtype=int64),\n",
       "   array([ 5294, 17519,  9379, ..., 11793,  8926, 18887], dtype=int64)),\n",
       "  (array([ 3026, 15048,  3392, ..., 19220,  3205, 14024], dtype=int64),\n",
       "   array([23342, 13447, 12794, ...,  5161, 20067, 14005], dtype=int64)),\n",
       "  (array([25434, 16913,  6324, ...,  5869, 20565, 15135], dtype=int64),\n",
       "   array([18717,  1868, 26252, ..., 16389, 20418,  6316], dtype=int64)),\n",
       "  (array([14784, 16240,  3589, ..., 14992, 18330,  4175], dtype=int64),\n",
       "   array([24679, 15362, 20816, ...,  9212, 10616,  5420], dtype=int64))],\n",
       " [(array([ 2829, 23139, 24645, ...,   458,  1977, 25620], dtype=int64),\n",
       "   array([12351, 20515, 14790, ...,   570, 10682,  9571], dtype=int64)),\n",
       "  (array([ 3172,  7074, 22344, ..., 10518, 21365,  6644], dtype=int64),\n",
       "   array([ 6117, 21144, 17200, ..., 22485,  6202, 12055], dtype=int64)),\n",
       "  (array([ 8823, 26211, 21036, ..., 26130, 10373,  9562], dtype=int64),\n",
       "   array([18481, 10723,  9729, ..., 22961, 14489, 20862], dtype=int64)),\n",
       "  (array([12737,  2236, 25811, ...,  8779, 21423,  6670], dtype=int64),\n",
       "   array([13086,  9473, 26170, ...,  8413, 23617, 17210], dtype=int64)),\n",
       "  (array([  846, 18911, 18959, ...,  8293,   424,  8023], dtype=int64),\n",
       "   array([ 5799, 13062,   309, ..., 21241,  3562, 22549], dtype=int64)),\n",
       "  (array([13010, 16303, 20544, ..., 20601, 19896, 13889], dtype=int64),\n",
       "   array([ 1256,  8078, 16427, ..., 12082, 14934, 26004], dtype=int64)),\n",
       "  (array([ 1936, 10860, 17926, ...,  7159, 25357,  1549], dtype=int64),\n",
       "   array([ 9548, 15665,  2256, ..., 12810,  7063,  7239], dtype=int64)),\n",
       "  (array([ 8423, 12296, 14415, ..., 18693, 20587,  6218], dtype=int64),\n",
       "   array([23169,  8022,  1302, ..., 19922, 13788,  9385], dtype=int64)),\n",
       "  (array([ 9948,  8867,  9520, ..., 25374, 10471, 20163], dtype=int64),\n",
       "   array([ 4070, 20288, 13284, ..., 17089, 13228, 18993], dtype=int64)),\n",
       "  (array([ 7945,  8295,  7185, ...,  3770, 12043, 15103], dtype=int64),\n",
       "   array([10401,  9653,   970, ...,  9552,  9766,  3388], dtype=int64)),\n",
       "  (array([ 8563, 25606, 23411, ..., 16893, 22817,  3486], dtype=int64),\n",
       "   array([ 5397, 25333, 21499, ..., 12616,  6050,  5877], dtype=int64)),\n",
       "  (array([21712,  3875,  4099, ...,  2890, 19694, 16918], dtype=int64),\n",
       "   array([ 5478,  8921, 13397, ...,  1621, 18722, 16513], dtype=int64)),\n",
       "  (array([ 9719, 25998, 20941, ..., 17878, 22225, 10815], dtype=int64),\n",
       "   array([11549, 11660,  8192, ..., 24933,  8344, 26303], dtype=int64)),\n",
       "  (array([  847, 10323, 12137, ..., 14896, 15161, 22493], dtype=int64),\n",
       "   array([15695,  7031,  5282, ...,  5829,  7672,  9486], dtype=int64)),\n",
       "  (array([  694,  1423, 13820, ..., 24983, 23012, 11199], dtype=int64),\n",
       "   array([17745,  9645, 25037, ..., 19444,  5932, 23486], dtype=int64)),\n",
       "  (array([11146, 20667,  5570, ...,  4379, 24900, 22256], dtype=int64),\n",
       "   array([ 8979, 24079, 14035, ..., 15497, 10133,  9841], dtype=int64)),\n",
       "  (array([17933, 24841, 18377, ..., 22166, 15865, 21822], dtype=int64),\n",
       "   array([10846, 10682, 25379, ..., 13041,  9407, 26258], dtype=int64)),\n",
       "  (array([17277,  4208, 10904, ..., 17338,  8575, 13690], dtype=int64),\n",
       "   array([ 3370, 16564,  6226, ..., 13277,   442, 12988], dtype=int64)),\n",
       "  (array([22167, 12636, 16496, ...,  6229, 13182, 20672], dtype=int64),\n",
       "   array([25355, 22047, 11023, ...,  7889, 17643, 12896], dtype=int64)),\n",
       "  (array([22633, 22492,  3710, ..., 26049, 24377, 12112], dtype=int64),\n",
       "   array([ 4166, 14956,  8925, ..., 19039,  4403, 10765], dtype=int64)),\n",
       "  (array([ 9235, 21015, 25811, ..., 21420, 20517,  1440], dtype=int64),\n",
       "   array([20692,  3956, 12712, ...,  1727,  6883,  2572], dtype=int64)),\n",
       "  (array([19156, 13128, 21611, ..., 23073,  6951,  4026], dtype=int64),\n",
       "   array([ 6597, 18909, 22893, ..., 21540, 25410,  1737], dtype=int64)),\n",
       "  (array([  228,  2072, 11251, ..., 26304, 16653, 18685], dtype=int64),\n",
       "   array([ 2220,  7404,  2198, ..., 23383, 22141, 25884], dtype=int64)),\n",
       "  (array([13810,  1691, 17129, ..., 13967,  2771, 24369], dtype=int64),\n",
       "   array([16506, 15678, 16754, ..., 15135, 16524, 16962], dtype=int64)),\n",
       "  (array([25751,  7040,  1422, ...,  9508,  5991,  3729], dtype=int64),\n",
       "   array([ 8738, 18341,  8984, ..., 18921, 23020, 24368], dtype=int64)),\n",
       "  (array([14837,  1125, 15497, ..., 12441, 25953,  2922], dtype=int64),\n",
       "   array([25225, 15151, 11003, ...,  9409, 16254, 12853], dtype=int64)),\n",
       "  (array([26095, 15335, 15250, ...,  6429,  3828, 10470], dtype=int64),\n",
       "   array([10744, 14599,  3434, ..., 21324, 15338,  6664], dtype=int64)),\n",
       "  (array([25363, 25223, 18760, ..., 22661, 18327,  1836], dtype=int64),\n",
       "   array([12914, 21614, 12529, ..., 24891, 25845,  8426], dtype=int64)),\n",
       "  (array([13851,  2474, 14296, ...,  1239, 16738, 25694], dtype=int64),\n",
       "   array([ 6912,  5697, 16729, ..., 10418, 18804, 25673], dtype=int64)),\n",
       "  (array([ 6867,  3494,  1006, ..., 26046, 20425, 10552], dtype=int64),\n",
       "   array([ 7440, 19038,  5142, ..., 25200,  9006, 10597], dtype=int64)),\n",
       "  (array([ 8573,  2286,  5992, ..., 21392,  2792, 18641], dtype=int64),\n",
       "   array([22173, 23279, 20493, ..., 11751,  7602,  7798], dtype=int64)),\n",
       "  (array([10371,   555, 10987, ..., 11422,  9934,  7761], dtype=int64),\n",
       "   array([16745,  1215,  9098, ...,  7522,  4539, 12889], dtype=int64))],\n",
       " [(array([12493,  5935, 14757, ..., 23895, 10338, 21434], dtype=int64),\n",
       "   array([13890, 11029, 12010, ..., 21407, 16357, 13893], dtype=int64)),\n",
       "  (array([11709, 17809,  3643, ..., 16348, 22627, 13658], dtype=int64),\n",
       "   array([ 2546,  5654,  5797, ...,  8625,  1326, 14669], dtype=int64)),\n",
       "  (array([ 5535, 21847, 20671, ...,  1926, 22751, 12247], dtype=int64),\n",
       "   array([21113, 10093, 15145, ...,  6182,  8109, 10690], dtype=int64)),\n",
       "  (array([ 1250, 14681, 24068, ...,  9817, 12892, 21475], dtype=int64),\n",
       "   array([22650, 19805, 16054, ...,  4778, 16588, 19690], dtype=int64)),\n",
       "  (array([ 9947,  3993,  4268, ..., 17464, 23651,  7146], dtype=int64),\n",
       "   array([  517, 21385, 19795, ..., 13036,  9267, 12880], dtype=int64)),\n",
       "  (array([ 1090, 19004, 26166, ...,  9906, 17169,  2001], dtype=int64),\n",
       "   array([10740, 22942, 25667, ..., 25385, 25705, 15722], dtype=int64)),\n",
       "  (array([18106, 13518, 21832, ..., 25894, 21988,  2277], dtype=int64),\n",
       "   array([ 7502, 14839,  9228, ..., 10171, 25843, 11530], dtype=int64)),\n",
       "  (array([ 4097, 10811, 19345, ..., 23760, 24568, 18222], dtype=int64),\n",
       "   array([ 5196,  9613, 21015, ..., 20908,  6469, 23109], dtype=int64)),\n",
       "  (array([ 1205, 13529, 21149, ..., 25726, 10572, 17805], dtype=int64),\n",
       "   array([17247,  6688,  9893, ..., 18260, 15800, 12199], dtype=int64)),\n",
       "  (array([21581,  6017,  3955, ...,  3862,  3450, 12430], dtype=int64),\n",
       "   array([22518, 14477,  5938, ..., 22111, 12640, 22462], dtype=int64)),\n",
       "  (array([24035, 15303, 12861, ...,  1496, 16951, 18447], dtype=int64),\n",
       "   array([25002, 16251, 15305, ..., 12766, 20157, 21307], dtype=int64)),\n",
       "  (array([25040, 15357,  1742, ..., 14476,  9779,   770], dtype=int64),\n",
       "   array([17388, 12705, 15628, ...,  9489,  7961, 19789], dtype=int64)),\n",
       "  (array([ 8924,  2629, 22214, ..., 16852,  4372, 10487], dtype=int64),\n",
       "   array([23810,  7466, 22493, ...,  8558, 16363,  1302], dtype=int64)),\n",
       "  (array([23944,  7315,  1837, ...,  6417,  3822,  4137], dtype=int64),\n",
       "   array([ 7832,  7125, 25822, ...,  9784, 25176,  6980], dtype=int64)),\n",
       "  (array([10155,  6771, 24342, ..., 23242, 16937,  4360], dtype=int64),\n",
       "   array([19165, 10058, 18178, ..., 20366, 17213, 19262], dtype=int64)),\n",
       "  (array([ 6536, 25970, 20519, ...,  1922,  2633, 20018], dtype=int64),\n",
       "   array([19556, 18347, 19207, ..., 10284, 24598,  6728], dtype=int64)),\n",
       "  (array([24142, 25487,   352, ...,  7227, 15600,  4056], dtype=int64),\n",
       "   array([19217,  2770, 25156, ..., 24765,   259,  6328], dtype=int64)),\n",
       "  (array([   53, 24049,   945, ..., 26216, 14493, 10613], dtype=int64),\n",
       "   array([22585, 22449, 19839, ..., 23690, 17446,   573], dtype=int64)),\n",
       "  (array([26201, 21015, 18478, ...,  6440, 19639, 20554], dtype=int64),\n",
       "   array([ 4832, 17624, 22292, ...,    87,  5751, 12406], dtype=int64)),\n",
       "  (array([ 6347, 11620,  5126, ...,  6983,  6967, 23686], dtype=int64),\n",
       "   array([20094,  8181,  2178, ...,  2186, 24880, 25824], dtype=int64)),\n",
       "  (array([14985,  4980, 14215, ...,  6467,   897, 18344], dtype=int64),\n",
       "   array([ 7799,  8681,  2145, ..., 16074, 14715,  6968], dtype=int64)),\n",
       "  (array([14664, 25665, 16296, ...,  4130,  7861,  2385], dtype=int64),\n",
       "   array([ 3001,  3638,  2113, ..., 18431, 21740,  8169], dtype=int64)),\n",
       "  (array([10591,  1603, 13817, ...,  4371, 15664, 10965], dtype=int64),\n",
       "   array([ 2669, 12977,  6524, ...,  1533,  3017, 25237], dtype=int64)),\n",
       "  (array([14387, 10947, 15602, ...,  6275, 23572, 25353], dtype=int64),\n",
       "   array([ 2135, 22828, 23887, ..., 19258,  4269, 12141], dtype=int64)),\n",
       "  (array([15930, 18390,  8456, ..., 19773,   699,  1997], dtype=int64),\n",
       "   array([ 6944,  9976, 10650, ..., 17768, 13603,  7300], dtype=int64)),\n",
       "  (array([24518, 19178, 13976, ..., 12747, 14663, 21487], dtype=int64),\n",
       "   array([19721, 24720,  3285, ..., 10357, 14638, 19285], dtype=int64)),\n",
       "  (array([ 2944, 11843, 15105, ...,  2631,  1344, 15411], dtype=int64),\n",
       "   array([ 5846,   743,   513, ...,  3365, 10715, 14510], dtype=int64)),\n",
       "  (array([20129, 18340, 16840, ..., 13956, 11025, 20111], dtype=int64),\n",
       "   array([19472, 12339,  2830, ...,  9179,   538, 20240], dtype=int64)),\n",
       "  (array([19936,   669, 18563, ...,  4376, 22404,  6464], dtype=int64),\n",
       "   array([24300, 17989,  7814, ..., 10506,   211, 21992], dtype=int64)),\n",
       "  (array([26041,  4364,  8933, ..., 19126, 12069, 17157], dtype=int64),\n",
       "   array([16426, 26343, 18892, ..., 10207,  3244, 19809], dtype=int64)),\n",
       "  (array([ 3525, 17543, 10918, ..., 19359, 21838,  1560], dtype=int64),\n",
       "   array([ 7255,  7065, 24531, ...,  6944,  1396, 22532], dtype=int64)),\n",
       "  (array([ 2667, 20908,  9761, ..., 12766, 19362, 24782], dtype=int64),\n",
       "   array([10845, 25074, 12147, ..., 19856, 10846,  7097], dtype=int64))],\n",
       " [(array([ 4685,  6620, 13104, ...,  1235, 24025,  3741], dtype=int64),\n",
       "   array([12156, 14395, 18561, ..., 23768, 16879, 23308], dtype=int64)),\n",
       "  (array([17990, 20168,  4550, ..., 17407, 17864, 18597], dtype=int64),\n",
       "   array([11428,  6095, 11652, ...,  7769,  3329,  8931], dtype=int64)),\n",
       "  (array([ 6124, 14253, 21678, ..., 18875, 14761, 12758], dtype=int64),\n",
       "   array([22854,  2188,  6140, ..., 14554, 24814, 23490], dtype=int64)),\n",
       "  (array([11166,   364, 21962, ..., 20233, 25712, 22582], dtype=int64),\n",
       "   array([16093, 20123, 20517, ..., 16023,  7213, 13404], dtype=int64)),\n",
       "  (array([16273, 18327, 13708, ..., 18080, 22000, 21185], dtype=int64),\n",
       "   array([24230, 20368,  5958, ..., 13747,  6864, 20530], dtype=int64)),\n",
       "  (array([14887,  5725, 12921, ..., 10262, 10471, 10827], dtype=int64),\n",
       "   array([ 9434, 23027,  9240, ..., 12742,  8717, 23866], dtype=int64)),\n",
       "  (array([18489, 13098, 21439, ...,  3288, 24877,  9484], dtype=int64),\n",
       "   array([  720,  6712,  1530, ..., 10678, 12053,  2459], dtype=int64)),\n",
       "  (array([10187, 15567, 23344, ..., 11017, 16630,  9820], dtype=int64),\n",
       "   array([18951, 13521, 17294, ...,     5, 26103, 12407], dtype=int64)),\n",
       "  (array([19984, 24489, 12457, ..., 14343,  4143, 24280], dtype=int64),\n",
       "   array([ 6126, 15616,  7897, ...,  1334, 20252, 10274], dtype=int64)),\n",
       "  (array([12819, 12592,  7858, ...,  4137, 20382,   210], dtype=int64),\n",
       "   array([10410,  8105, 10852, ..., 24489, 24722,  5950], dtype=int64)),\n",
       "  (array([12765, 15508, 17575, ..., 18402, 14247, 25100], dtype=int64),\n",
       "   array([20867, 11655, 10221, ..., 21980, 25665, 16883], dtype=int64)),\n",
       "  (array([ 8775, 11247, 13607, ..., 12348,  7062, 10156], dtype=int64),\n",
       "   array([17411, 25175, 12755, ..., 10336, 25341, 14608], dtype=int64)),\n",
       "  (array([19399, 14921, 15103, ...,  2942, 19027, 14113], dtype=int64),\n",
       "   array([16250,  1809,  6643, ..., 16448,  1063,  8623], dtype=int64)),\n",
       "  (array([ 4662, 15713, 11534, ...,  5577,    31, 25064], dtype=int64),\n",
       "   array([23559, 11303,  5181, ..., 16933, 23613, 21765], dtype=int64)),\n",
       "  (array([ 6814,  9891,  4147, ..., 21689,  2893, 17307], dtype=int64),\n",
       "   array([24764, 22414, 13273, ..., 13986,  3384, 10457], dtype=int64)),\n",
       "  (array([18288, 12222,  5524, ..., 19332, 11664, 22475], dtype=int64),\n",
       "   array([13699, 23913, 19222, ...,  3106, 20519, 11622], dtype=int64)),\n",
       "  (array([19957,  2629,  3054, ..., 20757, 14575,  2718], dtype=int64),\n",
       "   array([11785,  7694,  1722, ..., 21556,  8182, 20099], dtype=int64)),\n",
       "  (array([12802, 22307, 13191, ..., 24691,  7520, 11020], dtype=int64),\n",
       "   array([11892,  5861, 13806, ..., 14492, 18772,  8171], dtype=int64)),\n",
       "  (array([10757, 23088,  9896, ..., 10286, 23198,  7982], dtype=int64),\n",
       "   array([14973, 23927,  5309, ...,  9174, 22503, 16875], dtype=int64)),\n",
       "  (array([ 2351, 19750,  4790, ..., 24513, 25123, 22436], dtype=int64),\n",
       "   array([19598,  6530,  9406, ..., 14993,  4889,  2105], dtype=int64)),\n",
       "  (array([ 6016, 12621, 19583, ..., 17380, 23747, 13067], dtype=int64),\n",
       "   array([19513,  9161,  2150, ...,  5623, 24907, 15365], dtype=int64)),\n",
       "  (array([ 5614,  7897,  2018, ...,  3927, 19909,  7440], dtype=int64),\n",
       "   array([23054, 20195,  4856, ..., 18740, 14058, 12436], dtype=int64)),\n",
       "  (array([11076, 21047, 25261, ..., 10481, 15432,  3201], dtype=int64),\n",
       "   array([14184,  9207, 19321, ...,  1579, 20666, 14514], dtype=int64)),\n",
       "  (array([ 6910, 12748, 12016, ..., 17918, 12887,   791], dtype=int64),\n",
       "   array([ 3488, 11548, 16903, ..., 18069, 25963, 21095], dtype=int64)),\n",
       "  (array([11705, 24582, 11201, ..., 12687, 20668, 17907], dtype=int64),\n",
       "   array([15338, 20442, 18051, ...,  4715, 16091, 18672], dtype=int64)),\n",
       "  (array([15931, 19823, 24509, ..., 15911, 22277,   742], dtype=int64),\n",
       "   array([21600,  1971, 11408, ...,   248, 15726, 19934], dtype=int64)),\n",
       "  (array([25998,  4458, 13959, ..., 10313, 26178,  2616], dtype=int64),\n",
       "   array([23118, 11110, 19368, ...,  1262,  5316,  2675], dtype=int64)),\n",
       "  (array([ 3537,  8943, 10613, ..., 19309, 24044, 10846], dtype=int64),\n",
       "   array([23152, 10465,  8995, ..., 22922,  3290,  2274], dtype=int64)),\n",
       "  (array([22976,  6684,  4594, ...,  6544, 20167, 12326], dtype=int64),\n",
       "   array([ 1218, 10887,  3279, ..., 11634, 12757, 24893], dtype=int64)),\n",
       "  (array([18267,  3359, 12303, ..., 24973,  6871,  3220], dtype=int64),\n",
       "   array([25307, 11360, 24512, ...,  5500,  3868, 21577], dtype=int64)),\n",
       "  (array([16826,  7823,  8795, ...,  6579,  8037,  7852], dtype=int64),\n",
       "   array([20208, 18064, 15489, ..., 13108,  4462, 12214], dtype=int64)),\n",
       "  (array([17929, 15641,  5651, ..., 17173,  2498,  3361], dtype=int64),\n",
       "   array([ 6768, 13868,  2961, ...,  7009, 25101,  6818], dtype=int64))]]"
      ]
     },
     "execution_count": 15,
     "metadata": {},
     "output_type": "execute_result"
    }
   ],
   "source": [
    "from sklearn.model_selection import StratifiedShuffleSplit\n",
    "\n",
    "n_repeats = len(pipelines)\n",
    "cv = [list(StratifiedShuffleSplit(n_splits=32, test_size=0.1, random_state=random_state).split(X,y)).copy() for i in range(n_repeats)]\n",
    "\n",
    "#cv = StratifiedShuffleSplit(n_splits=5, test_size=0.1, random_state=random_state).split(X,y)\n",
    "#cv = StratifiedShuffleSplit(n_splits=5, test_size=0.1, random_state=random_state)\n",
    "\n",
    "cv"
   ]
  },
  {
   "cell_type": "code",
   "execution_count": null,
   "id": "cc929206-004c-4f95-8b1f-daf92412ba0f",
   "metadata": {},
   "outputs": [
    {
     "data": {
      "image/png": "[encoded data removed]",
      "text/plain": [
       "<Figure size 1584x576 with 1 Axes>"
      ]
     },
     "metadata": {},
     "output_type": "display_data"
    },
    {
     "data": {
      "image/png": "[encoded data removed]",
      "text/plain": [
       "<Figure size 1584x576 with 1 Axes>"
      ]
     },
     "metadata": {},
     "output_type": "display_data"
    }
   ],
   "source": [
    "for cv_ in cv:\n",
    "    fig, ax = plt.subplots()\n",
    "    ax = plot_cv_indices(cv_, X, y, ax)\n",
    "    #ax.set(xlim=[0, 2000])"
   ]
  },
  {
   "cell_type": "code",
   "execution_count": null,
   "id": "03de5e76-c736-46f6-99a9-02e9d54d8dbe",
   "metadata": {},
   "outputs": [],
   "source": [
    "results = regression_benchmark(X=X, y=y,\n",
    "                                   models=pipelines,\n",
    "                                   cv=cv,\n",
    "                                   scoring=scoring,\n",
    "                                   random_state=random_state)"
   ]
  },
  {
   "cell_type": "code",
   "execution_count": null,
   "id": "c7f88b2b-9048-4bdc-946f-22ba0f6f92dc",
   "metadata": {},
   "outputs": [],
   "source": [
    "results.info()"
   ]
  },
  {
   "cell_type": "code",
   "execution_count": null,
   "id": "72e4a5cb-d5fb-447f-aeec-b882ac660296",
   "metadata": {},
   "outputs": [],
   "source": [
    "results.columns"
   ]
  },
  {
   "cell_type": "code",
   "execution_count": null,
   "id": "0bf77e2a-f18f-4c92-b1e6-a199ecd0b63f",
   "metadata": {},
   "outputs": [],
   "source": [
    "results.head()"
   ]
  },
  {
   "cell_type": "code",
   "execution_count": null,
   "id": "e79e1935-4e22-4528-93cb-67957900e4f7",
   "metadata": {},
   "outputs": [],
   "source": [
    "for key in results.columns[:-1]:\n",
    "    fig = plot_metrics(extract_metrics(results, [key]))\n",
    "    plt.show()"
   ]
  },
  {
   "cell_type": "markdown",
   "id": "47090662-09e9-4bc3-8e39-5ea791b809f6",
   "metadata": {},
   "source": [
    "# A-A-B-B Testing"
   ]
  },
  {
   "cell_type": "code",
   "execution_count": null,
   "id": "bd8237a8-780b-4a41-88ed-19ffdc7c10af",
   "metadata": {},
   "outputs": [],
   "source": [
    "assert False"
   ]
  },
  {
   "cell_type": "code",
   "execution_count": null,
   "id": "df3c7aca-dbab-4b86-8c59-8cc83687b81a",
   "metadata": {},
   "outputs": [],
   "source": [
    "# the number of equal models and cv splits has to match!\n",
    "n_repeats = len(cv)"
   ]
  },
  {
   "cell_type": "code",
   "execution_count": null,
   "id": "011e00da-870e-45d2-bff0-4a594b845582",
   "metadata": {},
   "outputs": [],
   "source": [
    "estimator = IsolationForest(contamination=0.02, n_estimators=100)\n",
    "pipeline = Pipeline([('scaler', StandardScaler()), ('est', estimator)])\n",
    "\n",
    "if_pipelines = get_aa_experiment(estimator=pipeline, n_repeats=n_repeats, name=\"IsolationForest\")"
   ]
  },
  {
   "cell_type": "code",
   "execution_count": null,
   "id": "f7265d7e-53ae-457e-a7f7-7e711390bf24",
   "metadata": {},
   "outputs": [],
   "source": [
    "estimator = OneClassSVM(gamma='scale', nu=0.01)\n",
    "pipeline = Pipeline([('scaler', StandardScaler()), ('est', estimator)])\n",
    "\n",
    "svm_pipelines = get_aa_experiment(estimator=pipeline, n_repeats=n_repeats, name=\"OneClassSVM\")"
   ]
  },
  {
   "cell_type": "code",
   "execution_count": null,
   "id": "c751b07b-e981-4c2c-a3c7-c3ebff1e637d",
   "metadata": {},
   "outputs": [],
   "source": [
    "estimator = EllipticEnvelope(contamination=0.03)\n",
    "pipeline = Pipeline([('scaler', StandardScaler()), ('est', estimator)])\n",
    "\n",
    "mcd_pipelines = get_aa_experiment(estimator=pipeline, n_repeats=n_repeats, name=\"MCD\")"
   ]
  },
  {
   "cell_type": "code",
   "execution_count": null,
   "id": "ff8f9b26-8527-4f43-8bed-c945940a8b45",
   "metadata": {},
   "outputs": [],
   "source": [
    "svm_pipelines"
   ]
  },
  {
   "cell_type": "code",
   "execution_count": null,
   "id": "ac29fe55-5652-4a03-a766-97c11631083b",
   "metadata": {},
   "outputs": [],
   "source": [
    "if_pipelines"
   ]
  },
  {
   "cell_type": "code",
   "execution_count": null,
   "id": "d8fef178-85e7-4620-bdc3-c31813a7463f",
   "metadata": {},
   "outputs": [],
   "source": [
    "mcd_pipelines"
   ]
  },
  {
   "cell_type": "code",
   "execution_count": null,
   "id": "cd73e6eb-73fe-4a92-8650-052ef5e77a6a",
   "metadata": {},
   "outputs": [],
   "source": [
    "aabb_results = aabb_classification_benchmark(X=X, y=y,\n",
    "                                   models=[if_pipelines, svm_pipelines, mcd_pipelines],\n",
    "                                   cv=cv,\n",
    "                                   scoring=scoring,\n",
    "                                   random_state=random_state)"
   ]
  },
  {
   "cell_type": "code",
   "execution_count": null,
   "id": "f06ec968-cded-46a5-b8cd-f630203d1b08",
   "metadata": {},
   "outputs": [],
   "source": [
    "aabb_results.head(30)"
   ]
  },
  {
   "cell_type": "code",
   "execution_count": null,
   "id": "8ac011bd-d063-48b6-aa1f-4b7452850456",
   "metadata": {},
   "outputs": [],
   "source": [
    "for key in aabb_results.columns[:-1]:\n",
    "    fig = plot_metrics(extract_metrics(aabb_results, [key]))\n",
    "    plt.show()"
   ]
  }
 ],
 "metadata": {
  "kernelspec": {
   "display_name": "Python 3 (ipykernel)",
   "language": "python",
   "name": "python3"
  },
  "language_info": {
   "codemirror_mode": {
    "name": "ipython",
    "version": 3
   },
   "file_extension": ".py",
   "mimetype": "text/x-python",
   "name": "python",
   "nbconvert_exporter": "python",
   "pygments_lexer": "ipython3",
   "version": "3.9.12"
  }
 },
 "nbformat": 4,
 "nbformat_minor": 5
}
